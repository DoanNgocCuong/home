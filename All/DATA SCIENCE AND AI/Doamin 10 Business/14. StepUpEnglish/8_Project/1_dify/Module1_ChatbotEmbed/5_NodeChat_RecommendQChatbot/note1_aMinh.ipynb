{
 "cells": [
  {
   "cell_type": "markdown",
   "metadata": {},
   "source": [
    "dify.thecoach.edu.vn/web/app/components/mindpal/workflow/visualizer/item/collapse-children-user-input/chat/chat-model/suggestions.tsx"
   ]
  },
  {
   "cell_type": "markdown",
   "metadata": {},
   "source": [
    "```\n",
    "  /** functions handler */\n",
    "  const onSend = async (suggestion: string) => {\n",
    "    setSuggestions([...[]])\n",
    "    setIsResponding(true)\n",
    "\n",
    "    // Open Embed Chatbot \n",
    "    await openChatbot()\n",
    "    await new Promise(resolve => setTimeout(resolve, 300))\n",
    "    const message = suggestion\n",
    "    if (window.chatbot?.sendMessage) {\n",
    "      window.chatbot.sendMessage(message)\n",
    "    } else {\n",
    "      console.error('Chatbot not ready')\n",
    "    }\n",
    "    const inputs = getInputsReference(treeNodes)\n",
    "\n",
    "```"
   ]
  },
  {
   "cell_type": "markdown",
   "metadata": {},
   "source": [
    "còn để tạo ra 3 câu như mong muốn thì em thay prompt vào file này JiraAI/dify.thecoach.edu.vn/api/core/llm_generator/prompts.py/Users/StepUp/JiraAI/dify.thecoach.edu.vn/api/core/llm_generator/prompts.py"
   ]
  },
  {
   "cell_type": "code",
   "execution_count": null,
   "metadata": {},
   "outputs": [],
   "source": []
  }
 ],
 "metadata": {
  "language_info": {
   "name": "python"
  }
 },
 "nbformat": 4,
 "nbformat_minor": 2
}
