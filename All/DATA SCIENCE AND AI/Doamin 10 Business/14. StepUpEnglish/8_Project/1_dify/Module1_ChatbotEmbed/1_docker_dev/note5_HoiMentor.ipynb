{
 "cells": [
  {
   "cell_type": "markdown",
   "metadata": {},
   "source": [
    "```\n",
    "Em chào a Hiếu ạ. \n",
    "a Hiếu ơi, em muốn hỏi về phần code có xài : Python Backend, React vs NextJS cho Frontend\n",
    "\n",
    "Vấn đề em đang gặp với bài này: \n",
    "\n",
    "Lâu nhất đoạn là sửa code frontend xong, muốn check UI đã lên chưa, lại phải run build lại Image Docker của Web.  (tầm 6-7 phút ạ)\n",
    "Xong bug lại phải sửa code, xong lại build Image lại, lại đợi 6-7 phút. \n",
    "---------------\n",
    "+, Em có thả volumes vào Docker-compose để khi code ở local cập nhật là UI cập nhật , ..\n",
    "+, ... \n",
    "1 số cách mà vẫn chưa rút ngắn được thời gian build lại Image.\n",
    "+, qua mấy anh bên Backend, Frontend team mình có chỉ em cách run riêng npm install cho frontend nhưng backend lúc đó lại không work (frontend call tới Backend lúc đó lỗi). \n",
    "+, Em có thử cách thay vì COPY ALL trong Docker thì em COPY từng phần cố định trước, phần thay đổi sau để tránh việc Build lại Image các phần cố định, cơ mà cũng ko cải thiện được mấy, ...\n",
    "\n",
    "-------\n",
    "Hiện em đang vừa code, vừa tìm cách để không cần Build lại Image mỗi lần sửa code. \n",
    "\n",
    "<Ảnh: Thời gian build Web Image (các phần như build API Image, DB Image, ... thì kéo từ Dockerfile>\n",
    "\n",
    "\n",
    "\n",
    "Dạ vâng ạ, em build ở docker local để develop ạ. :3\n",
    "----\n",
    "Nó có nhiều services nhỏ (api, web, database, nginx, ...) \n",
    "nên là em run docker compose tất cả mấy cái này. \n",
    "\n",
    "Xong em run npm run dev mỗi frontend để dev , cơ mà bug không call được tới các port. \n",
    "\n",
    "Em đành phải dev xong lại docker compose lại để test, xong bug lại fix lại docker compose lại (mỗi lần docker compose lại 6-7 phút) anh ạ.\n",
    "```"
   ]
  },
  {
   "cell_type": "markdown",
   "metadata": {},
   "source": [
    "```\n",
    "anh Thành ơi, cái bài hôm nọ anh chỉ em ở cuối giờ. \n",
    "docker compose up riêng cái services, chẳng hạn docker compose up web thì mỗi lần vẫn mất 6-7 phút. \n",
    "\n",
    "Em muốn hỏi là: \n",
    "1. Là có cách nào để vẫn xài docker compose mà mỗi lần sửa code ở frontend thì nó đồng bộ vào trong Docker luôn không. \n",
    "(Trước em thử dùng volumes với bài của html, css mà đóng thành docker thì được, bài NextJS, React này thì không được). \n",
    "\n",
    "2. Là em muốn hỏi:\n",
    "Khi run riêng frontend bằng npm install. npm run dev\n",
    "- Source này nó có nhiều services nhỏ (api, web, database, nginx, ...) \n",
    "nên là em run docker compose tất cả mấy cái này. \n",
    "- Xong em run npm run dev mỗi frontend để dev , cơ mà bug không call được tới các port. \n",
    "\n",
    "Em đành phải dev xong lại docker compose lại để test, xong bug lại fix lại docker compose lại (mỗi lần docker compose lại 6-7 phút) anh ạ.\n",
    "```"
   ]
  },
  {
   "cell_type": "markdown",
   "metadata": {},
   "source": []
  }
 ],
 "metadata": {
  "language_info": {
   "name": "python"
  }
 },
 "nbformat": 4,
 "nbformat_minor": 2
}
