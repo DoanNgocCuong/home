{
 "cells": [
  {
   "cell_type": "markdown",
   "metadata": {},
   "source": [
    "# 1. Embed Chatbot\n",
    "1. Dựng chatbot embed nhúng vào HTML cơ bản \n",
    "2. Dựng ChatbotWidget.tsx với việc hiển thị đcợc chatbot embed. Lên UI của Mindpal bằng .tsx \n",
    "- Tìm mindpal/index.tsx truyền vô \n",
    "- Test bằng việc có `Hello`\n",
    "\n",
    "3. Connect RecommendQ.tsx với ChatbotWidget.tsx\n",
    "???\n"
   ]
  },
  {
   "cell_type": "markdown",
   "metadata": {},
   "source": [
    "# 2. Recommend Q - Embed Chatbot\n",
    "\n",
    "1. Giả lập việc có Context và câu hỏi được truyền vào. Cố định (Ban đầu thử với API ChatGPT cơ mnănằn nhằng => I want move to constant)\n",
    "- Về sau xài API trả ra luôn 3 câu hỏi từ các node đang hoạt động sau. \n",
    "\n",
    "2. Connect với ChatbotWidget.tsx\n",
    "- Click vào câu hỏi thì Context+Question sẽ được truyền tới ChatbotWidget.tsx  (bên dưới ẩn là con Embed Chatbot - tinh chỉnh UI con đó). \n",
    "- Xử lý việc câu hỏi tự động mở chatbot lên và truyền câu hỏi, ...\n",
    "\n",
    "3. Quan trọng ?? \n",
    "- Hiện câu hỏi lên UI mindpal => Tìm Mindpal đến file: index.tsx để test thêm chữ `hello123`. \n",
    "Tìm đến phần Rating xem nó ở đâu: `web\\app\\components\\mindpal\\workflow\\visualizer\\item\\panel\\index.tsx`\n",
    "\n",
    "```js\n",
    "// mindpal/workflow/víualizer/item/panel/index.tsx\n",
    "\n",
    "/* eslint-disable import/no-named-default */\n",
    "import {\n",
    "  RiCheckLine,\n",
    "  RiEdit2Line,\n",
    "  RiFeedbackLine,\n",
    "  RiFileCopyLine,\n",
    "  RiLoopRightLine,\n",
    "} from '@remixicon/react'\n",
    "import { Popover } from 'antd'\n",
    "import React, { useState } from 'react'\n",
    "import { useTranslation } from 'react-i18next'\n",
    "import BadResponseFeedback from './bad-response-feedback'\n",
    "import Regenerate from './regenerate'\n",
    "import Button from '@/app/components/base/button'\n",
    "import type { TreeNode } from '@/app/components/mindpal/context/helper'\n",
    "import { default as RatingComponent } from '@/app/components/mindpal/common/rating'\n",
    "import { default as RecommendQ } from '@/app/components/mindpal/recommendQ/recommendQ'\n",
    "```\n",
    "\n"
   ]
  },
  {
   "cell_type": "markdown",
   "metadata": {},
   "source": [
    "# 3. Hoàn thiện API CONTEXT MINDPAL"
   ]
  }
 ],
 "metadata": {
  "language_info": {
   "name": "python"
  }
 },
 "nbformat": 4,
 "nbformat_minor": 2
}
