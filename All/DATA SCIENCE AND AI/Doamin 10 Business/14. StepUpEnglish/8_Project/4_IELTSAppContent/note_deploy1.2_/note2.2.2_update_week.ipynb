{
 "cells": [
  {
   "cell_type": "markdown",
   "metadata": {},
   "source": [
    "```\n",
    "Muốn update \n",
    "\n",
    "                    audio_name = f\"https://smedia.stepup.edu.vn/ielts/chunking/listening/{order}/{role}.wav\"\n",
    "\n",
    "thành: \n",
    "\n",
    "                    audio_name = f\"https://smedia.stepup.edu.vn/ielts/chunking/listening/week_{stt_week được lấy từ cột week của file df_input = pd.read_excel(UPLOAD_FOLDER / 'data.xlsx')}/{order}/{role}.wav\"\n",
    "```\n"
   ]
  },
  {
   "cell_type": "code",
   "execution_count": null,
   "metadata": {},
   "outputs": [],
   "source": []
  }
 ],
 "metadata": {
  "language_info": {
   "name": "python"
  }
 },
 "nbformat": 4,
 "nbformat_minor": 2
}
