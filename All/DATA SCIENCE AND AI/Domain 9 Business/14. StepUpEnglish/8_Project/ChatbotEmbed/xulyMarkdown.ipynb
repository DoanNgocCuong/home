{
 "cells": [
  {
   "cell_type": "markdown",
   "metadata": {},
   "source": [
    "```bash\n",
    "// Thêm import thư viện marked để xử lý #, ** thành dạng hiển thị HTML\n",
    "import { marked } from 'marked';\n",
    "\n",
    "                        botMessage += data.answer;\n",
    "                        // Sử dụng marked để xử lý #, ** thành dạng hiển thị HTML\n",
    "                        // messageDiv.innerText = botMessage;\n",
    "                        messageDiv.innerHTML = marked(botMessage);\n",
    "                        chatWindow.scrollTop = chatWindow.scrollHeight;\n",
    "```"
   ]
  },
  {
   "cell_type": "markdown",
   "metadata": {},
   "source": []
  }
 ],
 "metadata": {
  "language_info": {
   "name": "python"
  }
 },
 "nbformat": 4,
 "nbformat_minor": 2
}
