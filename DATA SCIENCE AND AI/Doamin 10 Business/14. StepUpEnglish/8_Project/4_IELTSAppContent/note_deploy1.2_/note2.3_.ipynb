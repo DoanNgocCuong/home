{
 "cells": [
  {
   "cell_type": "markdown",
   "metadata": {},
   "source": [
    "```\n",
    "Còn 2 cái này: \n",
    "1. check lại lỗi cột answer 2 - feedback 2 trong output_meaning\n",
    "hiện tại không hiện đáp án này\n",
    "<mai chị nói rõ hơn cho em cái này nha, vì trong phần cũ của a Trúc hình như ko có>\n",
    "-----------------\n",
    "Mai xong cái này thì tụi em sẽ đẩy bản deploy 1.2 lên :v \n",
    "\n",
    "2. Gen Ảnh\n",
    "<tạm thời gen bằng AI thì cũng sẽ được khoảng 80%, ...>\n",
    "(dự kiến version sau nữa nha chị) \n",
    "```"
   ]
  },
  {
   "cell_type": "code",
   "execution_count": null,
   "metadata": {},
   "outputs": [],
   "source": []
  }
 ],
 "metadata": {
  "language_info": {
   "name": "python"
  }
 },
 "nbformat": 4,
 "nbformat_minor": 2
}
