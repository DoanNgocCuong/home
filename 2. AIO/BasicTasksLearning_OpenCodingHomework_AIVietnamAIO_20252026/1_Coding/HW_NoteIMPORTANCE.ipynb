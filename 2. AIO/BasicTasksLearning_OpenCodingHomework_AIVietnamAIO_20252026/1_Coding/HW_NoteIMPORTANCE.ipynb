{
 "cells": [
  {
   "cell_type": "markdown",
   "metadata": {},
   "source": [
    "### 1: Xóa tất cả các số chia hết cho 3 trong lst_data vừa tạo"
   ]
  },
  {
   "cell_type": "markdown",
   "metadata": {},
   "source": [
    "```\n",
    "# lst_data = [2, 4, 6, 8, 10, 12]\n",
    "# for i in range(len(lst_data)): \n",
    "#     print(i)\n",
    "#     print(lst_data[i], type(lst_data[i]))\n",
    "#     if lst_data[i] % 3 == 0: \n",
    "#         print(i)\n",
    "#         lst_data.pop(i)\n",
    "# print(lst_data)\n",
    "\n",
    "```\n",
    "Vấn èề là: Lặp từ cuối lên đầu: Khi xóa phần tử trong list, các phần tử phía sau sẽ dịch về trước. Nếu lặp từ đầu tới, việc xóa sẽ làm thay đổi vị trí của các phần tử chưa xét tới.\n",
    "```\n",
    "lst_data = [2, 4, 6, 8, 10, 12]\n",
    "\n",
    "# Nếu lặp từ đầu tới (sai):\n",
    "# i = 0: xóa 6 -> list = [2, 4, 8, 10, 12]\n",
    "# i = 1: xét 4 (không xóa)\n",
    "# i = 2: xét 10 (bỏ qua 8)\n",
    "# ...vv\n",
    "\n",
    "# Nếu lặp từ cuối lên (đúng):\n",
    "# i = 5: xóa 12 -> list = [2, 4, 6, 8, 10]\n",
    "# i = 4: giữ 10\n",
    "# i = 3: giữ 8\n",
    "# i = 2: xóa 6 -> list = [2, 4, 8, 10]\n",
    "# ...vv\n",
    "```"
   ]
  },
  {
   "cell_type": "markdown",
   "metadata": {},
   "source": [
    "2. \n",
    "```python\n",
    "lst_data[3:3] = range(6, 9) \n",
    "# Khi strat = end -> TẠO 1 KHE ĐỂ CHÈN CÁC PHẦN TỬ VÀO\n",
    "print(lst_data)\n",
    "```"
   ]
  },
  {
   "cell_type": "markdown",
   "metadata": {},
   "source": [
    "3. \n",
    "\n",
    "\n",
    "Tóm tắt 2 cú pháp list comprehension:\n",
    "\n",
    "1. **Cú pháp LỌC (Filter)**\n",
    "````python\n",
    "[x for x in list if condition]\n",
    "````\n",
    "- IF đặt SAU for\n",
    "- Chỉ giữ phần tử thỏa điều kiện\n",
    "- KHÔNG có else\n",
    "- VD: `[x for x in [1,2,3,4] if x > 2]` → `[3,4]`\n",
    "\n",
    "2. **Cú pháp BIẾN ĐỔI (Transform)**\n",
    "````python\n",
    "[value_if if condition else value_else for x in list]\n",
    "````\n",
    "- IF/ELSE đặt TRƯỚC for  \n",
    "- Biến đổi tất cả phần tử\n",
    "- PHẢI có else\n",
    "- VD: `[0 if x > 2 else x for x in [1,2,3,4]]` → `[1,2,0,0]`\n",
    "\n",
    "Ghi nhớ:\n",
    "- Cần lọc → dùng cú pháp 1 (`if` sau `for`)\n",
    "- Cần biến đổi → dùng cú pháp 2 (`if/else` trước `for`)\n"
   ]
  },
  {
   "cell_type": "code",
   "execution_count": 1,
   "metadata": {},
   "outputs": [
    {
     "name": "stdout",
     "output_type": "stream",
     "text": [
      "[0, 0, 0, 0, 0, 0]\n",
      "[2, 4, 8, 10]\n"
     ]
    }
   ],
   "source": [
    "lst_data = [2, 4, 6, 8, 10, 12]\n",
    "lst1 = [0 if (x % 2 == 0 or x % 5 == 0) else x for x in lst_data]\n",
    "\n",
    "# lst2 = [x if x % 3 != 0 for x in lst_data] Sai \n",
    "lst2 = [x for x in lst_data if x % 3 != 0]\n",
    "print(lst1)\n",
    "print(lst2)"
   ]
  },
  {
   "cell_type": "markdown",
   "metadata": {},
   "source": [
    "4. "
   ]
  },
  {
   "cell_type": "markdown",
   "metadata": {},
   "source": []
  }
 ],
 "metadata": {
  "kernelspec": {
   "display_name": "Python 3",
   "language": "python",
   "name": "python3"
  },
  "language_info": {
   "codemirror_mode": {
    "name": "ipython",
    "version": 3
   },
   "file_extension": ".py",
   "mimetype": "text/x-python",
   "name": "python",
   "nbconvert_exporter": "python",
   "pygments_lexer": "ipython3",
   "version": "3.12.9"
  }
 },
 "nbformat": 4,
 "nbformat_minor": 2
}
