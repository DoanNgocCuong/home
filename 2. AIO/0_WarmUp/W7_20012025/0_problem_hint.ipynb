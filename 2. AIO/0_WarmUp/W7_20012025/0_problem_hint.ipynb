{
 "cells": [
  {
   "cell_type": "code",
   "execution_count": null,
   "id": "438ce821",
   "metadata": {
    "id": "438ce821"
   },
   "outputs": [],
   "source": [
    "# dataset\n",
    "import numpy as np\n",
    "import matplotlib.pyplot as plt\n",
    "import random\n",
    "\n",
    "def get_column(data, index):\n",
    "\n",
    "    #your code here ***********************\n",
    "    \n",
    "    return result\n",
    "\n",
    "def prepare_data(file_name_dataset):\n",
    "  data = np.genfromtxt(file_name_dataset, delimiter=',', skip_header=1).tolist()\n",
    "  N = len(data)\n",
    "\n",
    "  # get tv (index=0)\n",
    "  tv_data = get_column(data, 0)\n",
    "\n",
    "  # get radio (index=1)\n",
    "  radio_data = get_column(data, 1)\n",
    "\n",
    "  # get newspaper (index=2)\n",
    "  newspaper_data = get_column(data, 2)\n",
    "\n",
    "  # get sales (index=3)\n",
    "  sales_data = get_column(data, 3)\n",
    "\n",
    "  # building X input  and y output for training\n",
    "  X = [tv_data, radio_data, newspaper_data]\n",
    "  y = sales_data\n",
    "  return X,y"
   ]
  },
  {
   "cell_type": "code",
   "execution_count": null,
   "id": "os4lMXA63lfA",
   "metadata": {
    "id": "os4lMXA63lfA"
   },
   "outputs": [],
   "source": [
    "#Question 1: \n",
    "X,y = prepare_data('advertising.csv')\n",
    "list = [sum(X[0][:5]), sum(X[1][:5]), sum(X[2][:5]), sum(y[:5])]\n",
    "print(list)"
   ]
  },
  {
   "cell_type": "code",
   "execution_count": null,
   "id": "nkm9-LCSRWKv",
   "metadata": {
    "id": "nkm9-LCSRWKv"
   },
   "outputs": [],
   "source": [
    "#Question 2:\n",
    "y_p = predict(x1=1, x2=1, x3=1, w1=0, w2=0.5, w3=0, b=0.5)\n",
    "print(y_p)"
   ]
  },
  {
   "cell_type": "code",
   "execution_count": null,
   "id": "cc65ed05",
   "metadata": {
    "id": "cc65ed05"
   },
   "outputs": [],
   "source": [
    "# compute output and loss\n",
    "def predict(x1, x2, x3, w1, w2, w3, b):\n",
    "\n",
    "      #your code here ***********************\n",
    "\n",
    "    return result\n",
    "\n",
    "def compute_loss(y_hat, y):\n",
    "\n",
    "        #your code here ***********************\n",
    "\n",
    "    return result\n",
    "\n",
    "def compute_loss_mae(y_hat, y):\n",
    "\n",
    "        #your code here ***********************\n",
    "\n",
    "    return result\n",
    "\n",
    "# compute gradient\n",
    "def compute_gradient_wi(xi, y, y_hat):\n",
    "\n",
    "         #your code here ***********************\n",
    "\n",
    "    return dl_dwi \n",
    "\n",
    "def compute_gradient_b(y, y_hat):\n",
    "\n",
    "         #your code here ***********************\n",
    "\n",
    "    return dl_db\n",
    "\n",
    "# update weights\n",
    "def update_weight_wi(wi, dl_dwi, lr):\n",
    "\n",
    "        #your code here ***********************\n",
    "\n",
    "    return wi\n",
    "    \n",
    "def update_weight_b(b, dl_db, lr):    \n",
    "  \n",
    "         #your code here ***********************\n",
    "\n",
    "    return b"
   ]
  },
  {
   "cell_type": "code",
   "execution_count": null,
   "id": "14wcs223SOQA",
   "metadata": {
    "id": "14wcs223SOQA"
   },
   "outputs": [],
   "source": [
    "#Question 3:\n",
    "l = compute_loss(y_hat=1, y=0.5)\n",
    "print(l)"
   ]
  },
  {
   "cell_type": "code",
   "execution_count": null,
   "id": "28f3addc",
   "metadata": {
    "id": "28f3addc"
   },
   "outputs": [],
   "source": [
    "#Question 4:\n",
    "g_wi = compute_gradient_wi(xi=1.0, y=1.0, y_hat=0.5)\n",
    "print(g_wi)"
   ]
  },
  {
   "cell_type": "code",
   "execution_count": null,
   "id": "7ZO0BQYmTKfc",
   "metadata": {
    "id": "7ZO0BQYmTKfc"
   },
   "outputs": [],
   "source": [
    "#Question 5:\n",
    "g_b =  compute_gradient_b(y=2.0, y_hat=0.5)\n",
    "print(g_b)"
   ]
  },
  {
   "cell_type": "code",
   "execution_count": null,
   "id": "6Hmq6SIPTpDu",
   "metadata": {
    "id": "6Hmq6SIPTpDu"
   },
   "outputs": [],
   "source": [
    "#Question 6:\n",
    "after_wi = update_weight_wi(wi=1.0, dl_dwi=-0.5, lr=1e-5)\n",
    "print(after_wi)"
   ]
  },
  {
   "cell_type": "code",
   "execution_count": null,
   "id": "jJZp57H7Uc20",
   "metadata": {
    "id": "jJZp57H7Uc20"
   },
   "outputs": [],
   "source": [
    "#Question 7:\n",
    "after_b = update_weight_b(b=0.5, dl_db=-1.0, lr=1e-5)\n",
    "print(after_b)    \n"
   ]
  },
  {
   "cell_type": "code",
   "execution_count": null,
   "id": "918b429f",
   "metadata": {
    "colab": {
     "base_uri": "https://localhost:8080/"
    },
    "id": "918b429f",
    "outputId": "4ec16af1-c414-45f5-dd5a-956125bf0115"
   },
   "outputs": [
    {
     "name": "stdout",
     "output_type": "stream",
     "text": [
      "(0.016992259082509283, 0.0070783670518262355, -0.002307860847821344, 0)\n"
     ]
    }
   ],
   "source": [
    "def initialize_params():\n",
    "    # w1 = random.gauss(mu=0.0, sigma=0.01)\n",
    "    # w2 = random.gauss(mu=0.0, sigma=0.01)\n",
    "    # w3 = random.gauss(mu=0.0, sigma=0.01)\n",
    "    # b  = 0\n",
    "\n",
    "    w1, w2, w3, b = (0.016992259082509283, 0.0070783670518262355, -0.002307860847821344, 0)\n",
    "    return w1, w2, w3, b\n",
    "\n",
    "print(initialize_params())"
   ]
  },
  {
   "cell_type": "code",
   "execution_count": null,
   "id": "c43afd0a",
   "metadata": {
    "id": "c43afd0a"
   },
   "outputs": [],
   "source": []
  },
  {
   "cell_type": "code",
   "execution_count": null,
   "id": "94ea37a5",
   "metadata": {
    "id": "94ea37a5"
   },
   "outputs": [],
   "source": [
    "\n",
    "def implement_linear_regression(X_data, y_data, epoch_max=50, lr=1e-5):\n",
    "  losses = []\n",
    "\n",
    "  w1, w2, w3, b = initialize_params()\n",
    " \n",
    "  N = len(y_data)\n",
    "  for epoch in range(epoch_max):\n",
    "      for i in range(N):\n",
    "          # get a sample\n",
    "          x1 = X_data[0][i]\n",
    "          x2 = X_data[1][i]\n",
    "          x3 = X_data[2][i]\n",
    "\n",
    "          y  = y_data[i]\n",
    "\n",
    "          # print(y)\n",
    "          # compute output \n",
    "          y_hat = predict(x1, x2, x3, w1, w2, w3, b)\n",
    "          \n",
    "          # compute loss\n",
    "          loss = compute_loss(y, y_hat)\n",
    "\n",
    "          # compute gradient w1, w2, w3, b\n",
    "          dl_dw1 = compute_gradient_wi(x1, y, y_hat)\n",
    "          dl_dw2 = compute_gradient_wi(x2, y, y_hat)\n",
    "          dl_dw3 = compute_gradient_wi(x3, y, y_hat)\n",
    "          dl_db  = compute_gradient_b(y, y_hat)\n",
    "\n",
    "          # update parameters\n",
    "          w1 = update_weight_wi(w1, dl_dw1, lr)\n",
    "          w2 = update_weight_wi(w2, dl_dw2, lr)\n",
    "          w3 = update_weight_wi(w3, dl_dw3, lr)\n",
    "          b  = update_weight_b(b, dl_db, lr)\n",
    "\n",
    "          # logging\n",
    "          losses.append(loss) \n",
    "  return (w1,w2,w3,b, losses)"
   ]
  },
  {
   "cell_type": "code",
   "execution_count": null,
   "id": "091d717c",
   "metadata": {
    "id": "091d717c"
   },
   "outputs": [],
   "source": [
    "X,y = prepare_data('advertising.csv')\n",
    "(w1,w2,w3,b, losses) = implement_linear_regression(X,y)\n",
    "plt.plot(losses[:100])\n",
    "plt.xlabel(\"#iteration\")\n",
    "plt.ylabel(\"Loss\")\n",
    "plt.show()"
   ]
  },
  {
   "cell_type": "code",
   "execution_count": null,
   "id": "9lMEgCsiOLiR",
   "metadata": {
    "id": "9lMEgCsiOLiR"
   },
   "outputs": [],
   "source": [
    "#Question 8:\n",
    "X,y = prepare_data('advertising.csv')\n",
    "(w1,w2,w3,b, losses) = implement_linear_regression(X,y)\n",
    "print(w1,w2,w3)"
   ]
  },
  {
   "cell_type": "markdown",
   "id": "143c7817",
   "metadata": {
    "id": "143c7817"
   },
   "source": [
    "#### Inference"
   ]
  },
  {
   "cell_type": "code",
   "execution_count": null,
   "id": "9042ab0f",
   "metadata": {
    "id": "9042ab0f"
   },
   "outputs": [],
   "source": [
    "#Question 9:\n",
    "# given new data\n",
    "tv = 19.2\n",
    "radio = 35.9 \n",
    "newspaper = 51.3\n",
    "\n",
    "X,y = prepare_data('advertising.csv')\n",
    "(w1,w2,w3,b, losses) = implement_linear_regression(X,y)\n",
    "sales = predict(tv, radio, newspaper, w1, w2, w3, b)\n",
    "print(f'predicted sales is {sales}')"
   ]
  }
 ],
 "metadata": {
  "colab": {
   "provenance": []
  },
  "kernelspec": {
   "display_name": "Python 3 (ipykernel)",
   "language": "python",
   "name": "python3"
  },
  "language_info": {
   "codemirror_mode": {
    "name": "ipython",
    "version": 3
   },
   "file_extension": ".py",
   "mimetype": "text/x-python",
   "name": "python",
   "nbconvert_exporter": "python",
   "pygments_lexer": "ipython3",
   "version": "3.11.5"
  }
 },
 "nbformat": 4,
 "nbformat_minor": 5
}
