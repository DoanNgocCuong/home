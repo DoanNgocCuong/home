{
 "cells": [
  {
   "cell_type": "markdown",
   "metadata": {},
   "source": [
    "Trong thư mục dự án test mới, cấu trúc thư mục nên như sau:\n",
    "\n",
    "```\n",
    "test-mindpal/\n",
    "├── src/\n",
    "│   ├── components/\n",
    "│   │   ├── mindpal/\n",
    "│   │   │   ├── chatbot/\n",
    "│   │   │   │   ├── types.ts  \n",
    "│   │   │   │   ├── ChatbotWidget.tsx\n",
    "│   │   │   │   └── RecommendQ.tsx\n",
    "│   │   │   └── Panel.tsx\n",
    "│   ├── pages/\n",
    "│   │   ├── index.tsx\n",
    "│   │   └── test.tsx\n",
    "```\n",
    "\n",
    "Đặt components trong src/components để dễ quản lý và test. Pages/test.tsx sẽ import từ đây."
   ]
  },
  {
   "cell_type": "code",
   "execution_count": null,
   "metadata": {},
   "outputs": [],
   "source": []
  }
 ],
 "metadata": {
  "language_info": {
   "name": "python"
  }
 },
 "nbformat": 4,
 "nbformat_minor": 2
}
