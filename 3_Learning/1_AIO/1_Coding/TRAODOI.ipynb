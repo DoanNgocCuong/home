{
 "cells": [
  {
   "cell_type": "markdown",
   "metadata": {},
   "source": [
    "## 1. Theo Ứng dụng thì có cần Research không? \n",
    "- Có. Khi các thứ hiện trên youtube, github, ... đã hết rồi => Cần search Research để mà TÌM NHỮNG CÁI MỚI. \n",
    "- 1 số nơi không publish Paper => Lưu hành nội bộ. \n",
    "- Hoặc làm ứng dụng => Ra paper bình thường, ...\n",
    "\n",
    "=> Paper - Research hay Application đi cùng nhau. Vì bản chất Research nó giải quyết 1 vấn đề nào đó, Paper mạnh sẽ giải quyết 1 vấn đề nào đó Application. \n",
    "=> Đào tạo 1 năm, BƠI ĐƯỢC, ae cần RESEARCH để NHÌN CÁI MỚI KHÔNG SỢ NỮA, "
   ]
  },
  {
   "cell_type": "markdown",
   "metadata": {},
   "source": [
    "- Trong quá trình học => Đưa dần các bạn các phần của Paper - vào. \n",
    "- TA Nguyên giúp mn nhẹ nhàng hơn các `GIẢ THUẬT TOÁN`"
   ]
  },
  {
   "cell_type": "markdown",
   "metadata": {},
   "source": [
    "Mình có lớp học cách đọc paper mà phải không ad? => Chiến lược, mũi khoan của AIO"
   ]
  },
  {
   "cell_type": "markdown",
   "metadata": {},
   "source": [
    "Ad ơi, đợt này các group Offline hàng tuần ở HN, HCM, ... Ad có trực tiếp quản lý không ạ\n",
    "- HCM: Chuyển từ Seminar lên CLB. => HCM có phòng học luôn. 23/2 là đội HCM sẽ xuất hiện ở HuTech. \n",
    "- HN, Đà Nẵng thì tạm ngưng. "
   ]
  },
  {
   "cell_type": "markdown",
   "metadata": {},
   "source": [
    "## 2. Có mục tiêu => Thay đổi ghê lắm + Có ace đồng hành nữa nha "
   ]
  },
  {
   "cell_type": "markdown",
   "metadata": {},
   "source": [
    "29 tuổi Ad lên Tiến sĩ rồi. Đủ lượng đủ chất nó Transform"
   ]
  },
  {
   "cell_type": "markdown",
   "metadata": {},
   "source": [
    "Sắp xếp 1 cách khoa học để vừa đi học vừa đi làm"
   ]
  },
  {
   "cell_type": "markdown",
   "metadata": {},
   "source": [
    "## 3. Tối ưu hoá"
   ]
  },
  {
   "cell_type": "markdown",
   "metadata": {},
   "source": [
    "## 4. Giữ chuỗi - Ngày nào cũng làm quan trọng, bám trụ + Tắt Record là vì để mn bám trụ (ko kiểu vì có record rùi mà ko vào học => Mất)"
   ]
  },
  {
   "cell_type": "markdown",
   "metadata": {},
   "source": [
    "Không bỏ qua các Module 1, 2, 3 => Vì mỗi ad có cách truyền đạt khác nhau "
   ]
  },
  {
   "cell_type": "markdown",
   "metadata": {},
   "source": [
    "Châu - CEO ... - làm xung phong vô => ra 3 bài Paper "
   ]
  },
  {
   "cell_type": "markdown",
   "metadata": {},
   "source": [
    "## 5. Nghe AIO 2024 trước => Cứ nghe đi, nắm được các keywords đó"
   ]
  },
  {
   "cell_type": "markdown",
   "metadata": {},
   "source": [
    "Bữa vô nghe Medical Image dù về techical như vịt nghe sấm nhưng cũng hiểu được vài khái niệm, tình trạng medical hiện tại AI thiếu dữ liệu ra sao, hiện nhóm đang tập trung làm những công việc gì hiệu quả, cũng hay !!!"
   ]
  },
  {
   "cell_type": "markdown",
   "metadata": {},
   "source": []
  },
  {
   "cell_type": "markdown",
   "metadata": {},
   "source": []
  },
  {
   "cell_type": "code",
   "execution_count": null,
   "metadata": {},
   "outputs": [],
   "source": []
  }
 ],
 "metadata": {
  "language_info": {
   "name": "python"
  }
 },
 "nbformat": 4,
 "nbformat_minor": 2
}
