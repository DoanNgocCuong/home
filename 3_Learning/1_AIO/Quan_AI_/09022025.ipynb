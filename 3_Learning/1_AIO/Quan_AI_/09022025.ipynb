{
 "cells": [
  {
   "cell_type": "markdown",
   "metadata": {},
   "source": [
    "1. Đừng tốn thời gian để làm những thứ, ... - Tiết kiệm thời gian - Thời gian mất đi là chịu ko kiếm lại được \n",
    "2. "
   ]
  },
  {
   "cell_type": "markdown",
   "metadata": {},
   "source": [
    "Anh dùng thử Roo Cline chưa? Em đang dùng với AWS bedrock xin được free $1k 2 năm thấy ngon hơn cursor\n",
    "\n",
    "AWS : 10000  - 100.000$ - Personal 1K - AWS Việt Nam xin mấy anh, em đang làm StartUp cho em xin vài 5K, hết 5K xin thêm\n",
    "\n",
    "- Việt Nam - Ấn Độ - Indo: Outsource - Việt nam vua outsource. Vì người Việt chăm chỉ + thích tiền. 1 người handle 1 lúc 2 dự án. Chưa thành thạo mà code 1h, 1h rưỡi. 1 ngày - 10 web => x10 lên. (Phí AI cũng ko quá đắt)"
   ]
  },
  {
   "cell_type": "markdown",
   "metadata": {},
   "source": [
    "a Quân mâm 1"
   ]
  },
  {
   "cell_type": "markdown",
   "metadata": {},
   "source": [
    "https://github.com/unslothai/unsloth"
   ]
  },
  {
   "cell_type": "markdown",
   "metadata": {},
   "source": [
    "https://langchain-ai.github.io/langgraph/tutorials/customer-support/customer-support/#prerequisites"
   ]
  },
  {
   "cell_type": "markdown",
   "metadata": {},
   "source": [
    "Vật lý - core của World Model trong tương lai"
   ]
  },
  {
   "cell_type": "markdown",
   "metadata": {},
   "source": [
    "Học Pytorch và transformer Hugging Face. \n",
    "=> học kỹ genAI\n",
    "=> Host trên vLLM\n",
    "=> ... "
   ]
  },
  {
   "cell_type": "markdown",
   "metadata": {},
   "source": [
    "- Kiếm Project khi đi làm. Đánh đồng đội, làm đồng đội. ganh đua lớp hạng 1, 2 => ... Đánh đồng đội \n",
    "- Skill học 1 tuần, 2 tuần kiến thức mới là anh học xong rồi. Skill rất tốt, phối hợp vẫn hơi kém (công ty remote họ thấy em phối hợp rồi, rất dễ). \n",
    "=> Project Dev, tuyển dụng biển làm Code bằng Crusor, họ muốn `get thing done` (ở giữa em ko làm gì, viết 1 dòng hay 300 dòng code, như nhau)\n"
   ]
  },
  {
   "cell_type": "markdown",
   "metadata": {},
   "source": [
    "- Trùm lead code mà vào Product như Zalo nhiều khi lại không phù hợp. \n",
    "-> Zalo: code nhanh, build nhanh, demo nhanh. ... làm product mà implement git bằng tay, ... ko cần lắm"
   ]
  },
  {
   "cell_type": "markdown",
   "metadata": {},
   "source": [
    "Giao tiếp và phối hợp đồng đội"
   ]
  },
  {
   "cell_type": "markdown",
   "metadata": {},
   "source": [
    "Patreon - mạng xã hội thu nhỏ --- mình thấy giống mấy anh giỏi là mỗi tháng 1 big project, ... Build 1 RAG, Build 1 ..., mỗi tháng videos dài 7-8h. "
   ]
  },
  {
   "cell_type": "markdown",
   "metadata": {},
   "source": [
    "---\n",
    "Lịch live: 3h chiều - 6,7h tối, CN. - 10k, 20k úi thế rẻ thế. So với 30 triệu thì. "
   ]
  }
 ],
 "metadata": {
  "language_info": {
   "name": "python"
  }
 },
 "nbformat": 4,
 "nbformat_minor": 2
}
