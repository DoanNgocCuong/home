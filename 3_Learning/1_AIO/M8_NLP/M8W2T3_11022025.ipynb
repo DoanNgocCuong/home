{
 "cells": [
  {
   "cell_type": "markdown",
   "metadata": {},
   "source": [
    "# Mục tiêu: Viết bài Linkedin - Tuy chưa đến bài lập kế hoạch, nhưng cứ lập đi. Chưa đến video viết bài Linkedin, nhưng cứ viết đi. => Xuống sân cỏ + NHẬN TRÁCH NHIỆM. "
   ]
  }
 ],
 "metadata": {
  "language_info": {
   "name": "python"
  }
 },
 "nbformat": 4,
 "nbformat_minor": 2
}
