{
  "cells": [
    {
      "cell_type": "markdown",
      "metadata": {},
      "source": [
        "\n",
        "Mỗi phần trên đều bao gồm 2 câu hỏi (một câu dễ, một câu khó) liên quan đến AI, Machine Learning và Deep Learning. Chúc bạn học tốt."
      ]
    },
    {
      "cell_type": "markdown",
      "metadata": {},
      "source": [
        "Các câu hỏi đều được liên hệ đến AI, Machine Learning hoặc Deep Learning.\n",
        "\n",
        "\n",
        "\n",
        "1. **The Zen of Python:**  \n",
        "**Lý thuyết:** \"The Zen of Python\" chứa đựng những nguyên tắc giúp code trở nên rõ ràng, dễ bảo trì – điều rất quan trọng trong các dự án AI/ML phức tạp.  \n",
        "**Đề bài 1:**\n"
      ]
    },
    {
      "cell_type": "markdown",
      "metadata": {},
      "source": [
        "\n",
        "\n",
        "**Đề bài 2:** Viết một đoạn mã (hoặc bình luận) giải thích cách áp dụng các nguyên tắc của The Zen of Python để cải thiện tính đọc được và bảo trì trong dự án Deep Learning.  \n",
        "\n",
        "# Ví dụ: Sử dụng logging để ghi lại các bước xử lý của mô hình,\n",
        "# đảm bảo code luôn tuân thủ nguyên tắc \"Explicit is better than implicit\"\n",
        "# và \"Simple is better than complex\" từ The Zen of Python.\n"
      ]
    },
    {
      "cell_type": "code",
      "execution_count": 12,
      "metadata": {},
      "outputs": [
        {
          "name": "stdout",
          "output_type": "stream",
          "text": [
            "Model: DeepNet\n",
            "Accuracy: 0.92\n",
            "Loss: 0.1234\n",
            "Remember: Simple and explicit code aids debugging and maintenance!\n"
          ]
        }
      ],
      "source": [
        "\n",
        "def log_model_info(model_name, accuracy, loss):\n",
        "    log_message = (\n",
        "        f\"Model: {model_name}\\n\"\n",
        "        f\"Accuracy: {accuracy:.2f}\\n\"\n",
        "        f\"Loss: {loss:.4f}\\n\"\n",
        "        \"Remember: Simple and explicit code aids debugging and maintenance!\"\n",
        "    )\n",
        "    print(log_message)\n",
        "\n",
        "# Giả sử model của bạn có tên \"DeepNet\", accuracy = 0.92 và loss = 0.1234\n",
        "log_model_info(\"DeepNet\", 0.92, 0.1234)\n"
      ]
    },
    {
      "cell_type": "markdown",
      "metadata": {},
      "source": [
        "\n",
        "\n",
        "\n",
        "\n",
        "2. **Indentation:**  \n",
        "**Lý thuyết:** Indentation (thụt lề) là yếu tố bắt buộc trong Python, đặc biệt khi xây dựng các hàm hoặc khối logic cho mô hình học sâu.  \n",
        "**Đề bài 1:** Viết một hàm tính tích của hai số (ví dụ, nhân hệ số trong một phép tính đơn giản) với định dạng thụt lề đúng.  \n"
      ]
    },
    {
      "cell_type": "code",
      "execution_count": 13,
      "metadata": {},
      "outputs": [
        {
          "name": "stdout",
          "output_type": "stream",
          "text": [
            "Tích của 4 và 5 là: 20\n"
          ]
        }
      ],
      "source": [
        "\n",
        "def multiply(a, b):\n",
        "    return a * b\n",
        "\n",
        "print(\"Tích của 4 và 5 là:\", multiply(4, 5))\n"
      ]
    },
    {
      "cell_type": "markdown",
      "metadata": {},
      "source": [
        "\n",
        "**Đề bài 2:** Viết một hàm mô phỏng một forward pass đơn giản của một lớp neural network (với một lớp ẩn) đòi hỏi sử dụng các khối lệnh lồng nhau với thụt lề chính xác.  \n",
        "\n"
      ]
    },
    {
      "cell_type": "code",
      "execution_count": 14,
      "metadata": {},
      "outputs": [
        {
          "name": "stdout",
          "output_type": "stream",
          "text": [
            "Output của neural layer: 0.6963549298238342\n"
          ]
        }
      ],
      "source": [
        "import math\n",
        "\n",
        "def neural_layer_forward(x, weights, bias):\n",
        "    # Tính tổng có trọng số\n",
        "    z = sum(x_i * w for x_i, w in zip(x, weights)) + bias\n",
        "    # Áp dụng hàm kích hoạt sigmoid\n",
        "    return 1 / (1 + math.exp(-z))\n",
        "\n",
        "# Giả sử đầu vào, trọng số và bias\n",
        "input_vector = [0.5, 0.8, 0.2]\n",
        "weights = [0.4, 0.7, 0.1]\n",
        "bias = 0.05\n",
        "print(\"Output của neural layer:\", neural_layer_forward(input_vector, weights, bias))\n"
      ]
    },
    {
      "cell_type": "markdown",
      "metadata": {},
      "source": [
        "\n",
        "\n",
        "\n",
        "\n",
        "3. **Code Comments:**  \n",
        "**Lý thuyết:** Comment rõ ràng giúp người khác (và cả bạn sau này) hiểu mục đích của từng phần code, điều này rất quan trọng khi triển khai các thuật toán ML phức tạp.  \n",
        "**Đề bài 1:** Viết một hàm tính tổng của hai số kèm theo comment dòng và docstring giải thích chức năng.  \n",
        "\n"
      ]
    },
    {
      "cell_type": "code",
      "execution_count": 15,
      "metadata": {},
      "outputs": [
        {
          "name": "stdout",
          "output_type": "stream",
          "text": [
            "Tổng của 10 và 20 là: 30\n"
          ]
        }
      ],
      "source": [
        "# Hàm tính tổng hai số\n",
        "def add(a, b):\n",
        "    \"\"\"\n",
        "    Tính tổng của a và b.\n",
        "    Được sử dụng trong việc kiểm tra đơn giản trước khi triển khai hàm loss trong ML.\n",
        "    \"\"\"\n",
        "    return a + b\n",
        "\n",
        "print(\"Tổng của 10 và 20 là:\", add(10, 20))"
      ]
    },
    {
      "cell_type": "markdown",
      "metadata": {},
      "source": [
        "\n",
        "\n",
        "**Đề bài 2:** Viết một hàm tính gradient của hàm loss (ví dụ: MSE) với các comment chi tiết giải thích từng bước xử lý.  \n",
        "\n"
      ]
    },
    {
      "cell_type": "code",
      "execution_count": 16,
      "metadata": {},
      "outputs": [
        {
          "name": "stdout",
          "output_type": "stream",
          "text": [
            "Gradients của MSE: [-0.25, 0.25, 0.050000000000000044, 0.3999999999999999]\n"
          ]
        }
      ],
      "source": [
        "def mse_gradient(y_true, y_pred):\n",
        "    \"\"\"\n",
        "    Tính gradient của hàm MSE (Mean Squared Error) theo y_pred.\n",
        "    \n",
        "    y_true: giá trị thực (ground truth)\n",
        "    y_pred: giá trị dự đoán từ mô hình\n",
        "    \n",
        "    Công thức MSE: (1/n) * Σ (y_true - y_pred)^2\n",
        "    => gradient = -2*(y_true - y_pred)/n\n",
        "    \"\"\"\n",
        "    n = len(y_true)\n",
        "    gradients = [(-2 * (yt - yp)) / n for yt, yp in zip(y_true, y_pred)]\n",
        "    return gradients\n",
        "\n",
        "# Ví dụ dữ liệu\n",
        "y_true = [3.0, -0.5, 2.0, 7.0]\n",
        "y_pred = [2.5, 0.0, 2.1, 7.8]\n",
        "print(\"Gradients của MSE:\", mse_gradient(y_true, y_pred))"
      ]
    },
    {
      "cell_type": "markdown",
      "metadata": {},
      "source": [
        "4. **Variables:**  \n",
        "**Lý thuyết:** Variables giúp lưu trữ các tham số của mô hình hoặc hyperparameter trong các ứng dụng ML/Deep Learning.  \n",
        "**Đề bài 1:** Khai báo biến cho learning rate và số epoch, sau đó in ra tổng (giá trị này chỉ mang tính chất minh họa).  \n",
        "\n"
      ]
    },
    {
      "cell_type": "code",
      "execution_count": null,
      "metadata": {},
      "outputs": [],
      "source": [
        "learning_rate = 0.01\n",
        "epochs = 100\n",
        "print(\"Tổng của learning_rate và epochs là:\", learning_rate + epochs)\n"
      ]
    },
    {
      "cell_type": "markdown",
      "metadata": {},
      "source": [
        "\n",
        "**Đề bài 2:** Khai báo các biến cho trọng số (weights), bias và lưu trữ cấu trúc của một lớp neural network, sau đó in ra kiểu dữ liệu và giá trị của từng biến.  \n"
      ]
    },
    {
      "cell_type": "code",
      "execution_count": 1,
      "metadata": {},
      "outputs": [
        {
          "name": "stdout",
          "output_type": "stream",
          "text": [
            "Weights: [[ 0.70407004  0.45927959 -1.16696656 -0.81896761]\n",
            " [ 1.65409076 -1.96221596  0.42427926  1.02598599]\n",
            " [ 0.41054241 -1.08514816  1.0391191   0.22640491]] \n",
            "Type: <class 'numpy.ndarray'>\n",
            "Bias: [-0.04499129 -1.2526324   0.34490785 -1.80716388] \n",
            "Type: <class 'numpy.ndarray'>\n",
            "Layer Config: {'weights': array([[ 0.70407004,  0.45927959, -1.16696656, -0.81896761],\n",
            "       [ 1.65409076, -1.96221596,  0.42427926,  1.02598599],\n",
            "       [ 0.41054241, -1.08514816,  1.0391191 ,  0.22640491]]), 'bias': array([-0.04499129, -1.2526324 ,  0.34490785, -1.80716388]), 'activation': 'relu'}\n"
          ]
        }
      ],
      "source": [
        "\n",
        "import numpy as np\n",
        "\n",
        "weights = np.random.randn(3, 4)  # ma trận trọng số cho 3 inputs và 4 outputs\n",
        "bias = np.random.randn(4)        # bias cho 4 neurons\n",
        "layer_config = {\"weights\": weights, \"bias\": bias, \"activation\": \"relu\"}\n",
        "\n",
        "print(\"Weights:\", weights, \"\\nType:\", type(weights))\n",
        "print(\"Bias:\", bias, \"\\nType:\", type(bias))\n",
        "print(\"Layer Config:\", layer_config)"
      ]
    },
    {
      "cell_type": "markdown",
      "metadata": {},
      "source": [
        "5. **Print Function:**  \n",
        "**Lý thuyết:** Hàm `print()` được dùng để hiển thị thông tin quan trọng như trạng thái huấn luyện hoặc kết quả của mô hình AI.  \n",
        "**Đề bài 1:** Sử dụng hàm `print()` để hiển thị thông báo “Training started” cho một vòng lặp huấn luyện đơn giản.  \n"
      ]
    },
    {
      "cell_type": "code",
      "execution_count": null,
      "metadata": {},
      "outputs": [],
      "source": [
        "print(\"Training started\")\n"
      ]
    },
    {
      "cell_type": "markdown",
      "metadata": {},
      "source": [
        "\n",
        "**Đề bài 2:** In ra báo cáo tóm tắt của một mô hình ML với các biến như accuracy, loss, và epoch, sử dụng hàm `print()` cho định dạng rõ ràng.  \n",
        "\n"
      ]
    },
    {
      "cell_type": "code",
      "execution_count": null,
      "metadata": {},
      "outputs": [],
      "source": [
        "accuracy = 0.95\n",
        "loss = 0.1234\n",
        "epoch = 50\n",
        "\n",
        "report = (\n",
        "    f\" Model Training Report \\n\"\n",
        "    f\"Epoch: {epoch}\\n\"\n",
        "    f\"Accuracy: {accuracy*100:.2f}%\\n\"\n",
        "    f\"Loss: {loss:.4f}\\n\"\n",
        "    f\"--\"\n",
        ")\n",
        "print(report)\n"
      ]
    },
    {
      "cell_type": "markdown",
      "metadata": {},
      "source": [
        "\n",
        "6. **Input Function:**  \n",
        "**Lý thuyết:** Hàm `input()` cho phép nhận dữ liệu từ người dùng, điều này có thể hữu ích khi thu thập thông số cấu hình cho mô hình AI.  \n",
        "**Đề bài 1:** Yêu cầu người dùng nhập tên của mô hình AI và in ra lời chào cá nhân hóa.  \n"
      ]
    },
    {
      "cell_type": "code",
      "execution_count": null,
      "metadata": {},
      "outputs": [],
      "source": [
        "model_name = input(\"Nhập tên của mô hình AI: \")\n",
        "print(f\"Chào mừng đến với quá trình huấn luyện mô hình {model_name}!\")"
      ]
    },
    {
      "cell_type": "markdown",
      "metadata": {},
      "source": [
        "\n",
        "\n",
        "\n",
        "\n",
        "\n",
        "\n",
        "**Đề bài 2:** Viết một chương trình yêu cầu người dùng nhập các hyperparameter như learning rate và số epoch, sau đó in ra bảng tóm tắt các giá trị đó.  \n",
        "\n"
      ]
    },
    {
      "cell_type": "code",
      "execution_count": null,
      "metadata": {},
      "outputs": [],
      "source": [
        "lr = float(input(\"Nhập learning rate: \"))\n",
        "epochs = int(input(\"Nhập số epoch: \"))\n",
        "\n",
        "summary = f\"\"\"\n",
        "Hyperparameter Summary:\n",
        "--\n",
        "Learning Rate: {lr}\n",
        "Epochs: {epochs}\n",
        "--\n",
        "\"\"\"\n",
        "print(summary)"
      ]
    },
    {
      "cell_type": "markdown",
      "metadata": {},
      "source": [
        "\n",
        "\n",
        "\n",
        "\n",
        "\n",
        "7. **Order of Operations:**  \n",
        "**Lý thuyết:** Việc tuân thủ thứ tự ưu tiên của các phép toán là quan trọng khi tính toán các biểu thức trong các thuật toán ML (ví dụ: tính weighted sum).  \n",
        "**Đề bài 1:** Tính biểu thức `3 + 4 * 2` (đại diện cho tính toán đơn giản trong mô hình) với thứ tự ưu tiên đúng.  \n",
        "\n"
      ]
    },
    {
      "cell_type": "code",
      "execution_count": null,
      "metadata": {},
      "outputs": [],
      "source": [
        "result = 3 + 4 * 2\n",
        "print(\"Kết quả của 3 + 4 * 2 là:\", result)\n"
      ]
    },
    {
      "cell_type": "markdown",
      "metadata": {},
      "source": [
        "\n",
        "**Đề bài 2:** Viết một biểu thức tính toán đầu ra của một neuron trong logistic regression:  \n",
        "  \n"
      ]
    },
    {
      "cell_type": "code",
      "execution_count": null,
      "metadata": {},
      "outputs": [],
      "source": [
        "&nbsp;&nbsp;&nbsp;&nbsp;`output = 1 / (1 + exp(-(input * weight + bias)))`  \n",
        "đảm bảo thứ tự ưu tiên đúng.  \n",
        "\n",
        "import math\n",
        "\n",
        "input_value = 0.8\n",
        "weight = 0.5\n",
        "bias = 0.1\n",
        "\n",
        "# Tính toán đầu ra của logistic neuron\n",
        "z = input_value * weight + bias\n",
        "output = 1 / (1 + math.exp(-z))\n",
        "print(\"Đầu ra của logistic neuron:\", output)"
      ]
    },
    {
      "cell_type": "markdown",
      "metadata": {},
      "source": [
        "\n",
        "\n",
        "\n",
        "\n",
        "\n",
        "\n",
        "8. **Basic Data Types:**  \n",
        "**Lý thuyết:** Các kiểu dữ liệu cơ bản (int, float, bool, str) được sử dụng để lưu trữ các thông số như epoch, learning rate, trạng thái của mô hình, và tên mô hình.  \n",
        "**Đề bài 1:** Khai báo một biến int cho số epoch, một biến float cho learning rate, một biến bool cho trạng thái convergence, và một biến str cho tên mô hình. In ra kiểu dữ liệu của chúng.  \n",
        "\n"
      ]
    },
    {
      "cell_type": "code",
      "execution_count": null,
      "metadata": {},
      "outputs": [],
      "source": [
        "epoch = 100        # int\n",
        "learning_rate = 0.01  # float\n",
        "is_converged = False  # bool\n",
        "model_name = \"ResNet50\"  # str\n",
        "\n",
        "print(type(epoch), type(learning_rate), type(is_converged), type(model_name))"
      ]
    },
    {
      "cell_type": "markdown",
      "metadata": {},
      "source": [
        "\n",
        "\n",
        "**Đề bài 2:** Tạo một danh sách (list) chứa thông tin của một sample data point trong ML gồm: ID (int), features (list of floats), label (bool). In ra danh sách cùng kiểu dữ liệu của từng thành phần.  \n",
        "\n"
      ]
    },
    {
      "cell_type": "code",
      "execution_count": null,
      "metadata": {},
      "outputs": [],
      "source": [
        "data_point = [123, [0.5, 0.8, 0.3], True]\n",
        "\n",
        "print(\"Data point:\", data_point)\n",
        "print(\"Kiểu của ID:\", type(data_point[0]))\n",
        "print(\"Kiểu của features:\", type(data_point[1]))\n",
        "print(\"Kiểu của label:\", type(data_point[2]))\n"
      ]
    },
    {
      "cell_type": "markdown",
      "metadata": {},
      "source": [
        "\n",
        "\n",
        "\n",
        "\n",
        "9. **Numbers (Các phép toán cơ bản):**  \n",
        "**Lý thuyết:** Phép toán cơ bản trên số học rất cần thiết trong việc tính toán các chỉ số như lỗi (error) hay cập nhật trọng số trong các thuật toán ML.  \n",
        "**Đề bài 1:** Thực hiện các phép toán cộng, trừ, nhân, chia trên hai số đại diện cho feature values.  \n",
        "\n"
      ]
    },
    {
      "cell_type": "code",
      "execution_count": null,
      "metadata": {},
      "outputs": [],
      "source": [
        "a, b = 8, 3\n",
        "print(\"Cộng:\", a + b)\n",
        "print(\"Trừ:\", a - b)\n",
        "print(\"Nhân:\", a * b)\n",
        "print(\"Chia:\", a / b)\n"
      ]
    },
    {
      "cell_type": "markdown",
      "metadata": {},
      "source": [
        "\n",
        "**Đề bài 2:** Tính Mean Squared Error (MSE) giữa danh sách dự đoán và giá trị thực bằng cách sử dụng các phép toán số học.  \n",
        "\n"
      ]
    },
    {
      "cell_type": "code",
      "execution_count": null,
      "metadata": {},
      "outputs": [],
      "source": [
        "y_true = [3.0, -0.5, 2.0, 7.0]\n",
        "y_pred = [2.5, 0.0, 2.1, 7.8]\n",
        "\n",
        "n = len(y_true)\n",
        "mse = sum((yt - yp) ** 2 for yt, yp in zip(y_true, y_pred)) / n\n",
        "print(\"MSE:\", mse)\n"
      ]
    },
    {
      "cell_type": "markdown",
      "metadata": {},
      "source": [
        "\n",
        "\n",
        "\n",
        "\n",
        "10. **Use Underscores to Format Large Numbers:**  \n",
        "**Lý thuyết:** Sử dụng dấu gạch dưới giúp định dạng các số lớn dễ đọc hơn, ví dụ như số lượng mẫu trong tập dữ liệu hay số tham số của mô hình.  \n",
        "**Đề bài 1:** Khai báo một số lớn đại diện cho số mẫu huấn luyện (ví dụ: 1_000_000) và in ra số đó.  \n",
        "\n"
      ]
    },
    {
      "cell_type": "code",
      "execution_count": null,
      "metadata": {},
      "outputs": [],
      "source": [
        "num_samples = 1_000_000\n",
        "print(\"Số mẫu huấn luyện:\", num_samples)"
      ]
    },
    {
      "cell_type": "markdown",
      "metadata": {},
      "source": [
        "\n",
        "\n",
        "**Đề bài 2:** Khai báo một số lớn đại diện cho tổng số tham số của một mô hình deep learning (ví dụ: 100_000_000) và tính tỉ lệ tham số trung bình trên mỗi lớp nếu mô hình có 50 lớp.  \n",
        "\n"
      ]
    },
    {
      "cell_type": "code",
      "execution_count": null,
      "metadata": {},
      "outputs": [],
      "source": [
        "total_params = 100_000_000\n",
        "num_layers = 50\n",
        "params_per_layer = total_params / num_layers\n",
        "print(\"Tham số trung bình trên mỗi lớp:\", params_per_layer)"
      ]
    },
    {
      "cell_type": "markdown",
      "metadata": {},
      "source": [
        "\n",
        "\n",
        "\n",
        "\n",
        "\n",
        "11. **Booleans:**  \n",
        "**Lý thuyết:** Kiểu dữ liệu Boolean (True/False) thường được dùng để biểu thị trạng thái của mô hình (ví dụ: đã hội tụ hay chưa) hoặc kết quả của các điều kiện trong thuật toán.  \n",
        "**Đề bài 1:** Sử dụng boolean để xác định xem mô hình đã hội tụ hay chưa và in ra thông báo tương ứng.  \n",
        "\n"
      ]
    },
    {
      "cell_type": "code",
      "execution_count": null,
      "metadata": {},
      "outputs": [],
      "source": [
        "is_converged = True\n",
        "if is_converged:\n",
        "    print(\"Mô hình đã hội tụ!\")\n",
        "else:\n",
        "    print(\"Mô hình chưa hội tụ!\")"
      ]
    },
    {
      "cell_type": "markdown",
      "metadata": {},
      "source": [
        "\n",
        "\n",
        "**Đề bài 2:** Sử dụng boolean để kiểm tra nhiều điều kiện: nếu accuracy > 0.9 và loss < 0.2 thì in ra “Mô hình đạt chuẩn”, ngược lại in “Cần cải thiện”.  \n",
        "\n"
      ]
    },
    {
      "cell_type": "code",
      "execution_count": null,
      "metadata": {},
      "outputs": [],
      "source": [
        "accuracy = 0.92\n",
        "loss = 0.15\n",
        "\n",
        "if accuracy > 0.9 and loss < 0.2:\n",
        "    print(\"Mô hình đạt chuẩn!\")\n",
        "else:\n",
        "    print(\"Cần cải thiện mô hình!\")\n",
        "\n"
      ]
    },
    {
      "cell_type": "markdown",
      "metadata": {},
      "source": [
        "\n",
        "\n",
        "\n",
        "12. **Strings:**  \n",
        "**Lý thuyết:** Chuỗi ký tự (string) được dùng để lưu trữ thông tin như tên mô hình, mô tả dữ liệu, hoặc cấu hình của dự án AI.  \n",
        "**Đề bài 1:** Tạo một chuỗi chứa tên của một mô hình AI và in ra độ dài của chuỗi đó.  \n"
      ]
    },
    {
      "cell_type": "code",
      "execution_count": null,
      "metadata": {},
      "outputs": [],
      "source": [
        "\n",
        "model_name = \"Convolutional Neural Network\"\n",
        "print(\"Độ dài của tên mô hình:\", len(model_name))"
      ]
    },
    {
      "cell_type": "markdown",
      "metadata": {},
      "source": [
        "\n",
        "\n",
        "**Đề bài 2:** Cho một chuỗi chứa cấu hình mô hình ở dạng JSON (dưới dạng chuỗi) và trích xuất giá trị của khóa `\"learning_rate\"`.  \n",
        "\n",
        "import json\n",
        "\n",
        "config_str = '{\"model\": \"CNN\", \"learning_rate\": 0.001, \"epochs\": 50}'\n",
        "config = json.loads(config_str)\n",
        "print(\"Learning rate của mô hình:\", config.get(\"learning_rate\"))\n",
        "\n",
        "\n",
        "\n",
        "\n",
        "13. **String Formatting:**  \n",
        "**Lý thuyết:** Định dạng chuỗi giúp kết hợp các biến và văn bản thành thông báo rõ ràng, hữu ích khi in báo cáo kết quả của mô hình AI.  \n",
        "**Đề bài 1:** Sử dụng `.format()` để in ra thông báo với độ chính xác của mô hình.  \n",
        "\n",
        "\n",
        "**Đề bài 2:** Sử dụng `.format()` để tạo một báo cáo chi tiết gồm accuracy, precision và recall của mô hình, in ra theo định dạng bảng.  \n",
        "\n"
      ]
    },
    {
      "cell_type": "code",
      "execution_count": null,
      "metadata": {},
      "outputs": [],
      "source": [
        "accuracy = 0.93\n",
        "precision = 0.89\n",
        "recall = 0.92\n",
        "\n",
        "report = (\n",
        "    \"Model Performance Report:\\n\"\n",
        "    \"-\\n\"\n",
        "    \"Accuracy : {0:.2f}\\n\"\n",
        "    \"Precision: {1:.2f}\\n\"\n",
        "    \"Recall   : {2:.2f}\\n\"\n",
        "    \"-\".format(accuracy, precision, recall)\n",
        ")\n",
        "print(report)\n"
      ]
    },
    {
      "cell_type": "markdown",
      "metadata": {},
      "source": [
        "\n",
        "\n",
        "\n",
        "\n",
        "14. **Old Style/pre-Python 2.6:**  \n",
        "**Lý thuyết:** Phương pháp định dạng chuỗi cũ sử dụng toán tử `%` vẫn có thể gặp trong một số code legacy, kể cả trong lĩnh vực ML.  \n",
        "**Đề bài 1:** Sử dụng `%` để in ra số epoch trong log huấn luyện.  \n"
      ]
    },
    {
      "cell_type": "code",
      "execution_count": null,
      "metadata": {},
      "outputs": [],
      "source": [
        "\n",
        "epoch = 25\n",
        "print(\"Epoch hiện tại: %d\" % epoch)"
      ]
    },
    {
      "cell_type": "markdown",
      "metadata": {},
      "source": [
        "\n",
        "\n",
        "**Đề bài 2:** Sử dụng `%` để định dạng một log chứa nhiều thông số huấn luyện (epoch, loss, accuracy) theo định dạng cố định.  \n",
        "\n"
      ]
    },
    {
      "cell_type": "code",
      "execution_count": null,
      "metadata": {},
      "outputs": [],
      "source": [
        "epoch = 25\n",
        "loss = 0.2567\n",
        "accuracy = 0.91\n",
        "log = \"Epoch: %d | Loss: %.4f | Accuracy: %.2f%%\" % (epoch, loss, accuracy*100)\n",
        "print(log)\n"
      ]
    },
    {
      "cell_type": "markdown",
      "metadata": {},
      "source": [
        "\n",
        "\n",
        "\n",
        "\n",
        "15. **New Style/Python 2.6:**  \n",
        "**Lý thuyết:** Phương pháp định dạng mới dùng `.format()` cung cấp cú pháp linh hoạt và dễ đọc, phù hợp với báo cáo kết quả của các thí nghiệm AI.  \n",
        "**Đề bài 1:** Sử dụng `.format()` để in ra lời chào cho một thí nghiệm Deep Learning.  \n",
        "\n"
      ]
    },
    {
      "cell_type": "code",
      "execution_count": null,
      "metadata": {},
      "outputs": [],
      "source": [
        "experiment = \"GAN Training\"\n",
        "print(\"Bắt đầu thí nghiệm: {}\".format(experiment))\n"
      ]
    },
    {
      "cell_type": "markdown",
      "metadata": {},
      "source": [
        "\n",
        "**Đề bài 2:** Sử dụng `.format()` để tạo một báo cáo chi tiết cho quá trình huấn luyện của một neural network bao gồm epoch, loss, accuracy và thời gian huấn luyện.  \n",
        "\n"
      ]
    },
    {
      "cell_type": "code",
      "execution_count": null,
      "metadata": {},
      "outputs": [],
      "source": [
        "epoch = 30\n",
        "loss = 0.1234\n",
        "accuracy = 0.95\n",
        "duration = 3600  # seconds\n",
        "\n",
        "report = (\n",
        "    \"Neural Network Training Report:\\n\"\n",
        "    \"Epoch: {}\\nLoss: {:.4f}\\nAccuracy: {:.2f}%\\nDuration: {} seconds\"\n",
        ").format(epoch, loss, accuracy*100, duration)\n",
        "print(report)\n",
        "\n"
      ]
    },
    {
      "cell_type": "markdown",
      "metadata": {},
      "source": [
        "\n",
        "\n",
        "\n",
        "16. **F-strings:**  \n",
        "**Lý thuyết:** F-strings (Python 3.6+) cho phép nhúng biểu thức vào chuỗi một cách trực tiếp, rất tiện lợi khi in các thông số động của mô hình AI.  \n",
        "**Đề bài 1:** Sử dụng f-string để in ra thông báo hiện tại với learning rate.  \n",
        "\n"
      ]
    },
    {
      "cell_type": "code",
      "execution_count": null,
      "metadata": {},
      "outputs": [],
      "source": [
        "lr = 0.005\n",
        "print(f\"Learning rate hiện tại là {lr}\")"
      ]
    },
    {
      "cell_type": "markdown",
      "metadata": {},
      "source": [
        "\n",
        "\n",
        "**Đề bài 2:** Sử dụng f-string để in ra báo cáo bao gồm tên mô hình, độ chính xác và phần trăm cải thiện hiệu năng so với phiên bản trước.  \n",
        "\n"
      ]
    },
    {
      "cell_type": "code",
      "execution_count": null,
      "metadata": {},
      "outputs": [],
      "source": [
        "model_name = \"ResNet50\"\n",
        "accuracy = 0.94\n",
        "improvement = 0.03\n",
        "\n",
        "print(f\"Mô hình {model_name} đạt độ chính xác {accuracy*100:.2f}%, cải thiện {improvement*100:.1f}% so với phiên bản trước.\")\n",
        "\n"
      ]
    },
    {
      "cell_type": "markdown",
      "metadata": {},
      "source": [
        "\n",
        "\n",
        "\n",
        "17. **Padding and Aligning Strings:**  \n",
        "**Lý thuyết:** Padding và căn chỉnh chuỗi giúp in ấn đầu ra gọn gàng, ví dụ khi hiển thị tên mô hình hoặc các thông số báo cáo trong một bảng.  \n",
        "**Đề bài 1:** In ra tên của mô hình được căn phải trong một trường rộng 20 ký tự.  \n",
        "\n"
      ]
    },
    {
      "cell_type": "code",
      "execution_count": null,
      "metadata": {},
      "outputs": [],
      "source": [
        "model_name = \"Transformer\"\n",
        "formatted = f\"{model_name:>20}\"\n",
        "print(f\"'{formatted}'\")\n"
      ]
    },
    {
      "cell_type": "markdown",
      "metadata": {},
      "source": [
        "\n",
        "**Đề bài 2:** Cho danh sách tên các mô hình, in ra bảng báo cáo sao cho mỗi tên được căn giữa trong một cột rộng 30 ký tự.  \n",
        "\n"
      ]
    },
    {
      "cell_type": "code",
      "execution_count": null,
      "metadata": {},
      "outputs": [],
      "source": [
        "models = [\"CNN\", \"RNN\", \"Transformer\", \"GAN\"]\n",
        "for m in models:\n",
        "    print(f\"{m:^30}\")\n"
      ]
    },
    {
      "cell_type": "markdown",
      "metadata": {},
      "source": [
        "\n",
        "\n",
        "\n",
        "\n",
        "18. **Truncating Long Strings:**  \n",
        "**Lý thuyết:** Truncating chuỗi giúp giới hạn độ dài của thông tin hiển thị, hữu ích khi in tóm tắt mô tả các nghiên cứu AI dài dòng.  \n",
        "**Đề bài 1:** Cắt chuỗi mô tả của mô hình thành 15 ký tự đầu tiên.  \n",
        "\n"
      ]
    },
    {
      "cell_type": "code",
      "execution_count": null,
      "metadata": {},
      "outputs": [],
      "source": [
        "description = \"This is a very deep neural network model designed for image classification.\"\n",
        "truncated = description[:15]\n",
        "print(\"Mô tả rút gọn:\", truncated)\n"
      ]
    },
    {
      "cell_type": "markdown",
      "metadata": {},
      "source": [
        "\n",
        "**Đề bài 2:** Cho một chuỗi chứa tóm tắt bài báo nghiên cứu AI, cắt chuỗi đó thành 50 ký tự và thêm dấu \"...\" ở cuối.  \n"
      ]
    },
    {
      "cell_type": "code",
      "execution_count": null,
      "metadata": {},
      "outputs": [],
      "source": [
        "\n",
        "abstract = \"In this research, we explore advanced deep learning techniques to improve natural language processing performance significantly.\"\n",
        "truncated = abstract[:50] + \"...\"\n",
        "print(\"Tóm tắt bài báo:\", truncated)"
      ]
    },
    {
      "cell_type": "markdown",
      "metadata": {},
      "source": [
        "\n",
        "\n",
        "\n",
        "\n",
        "\n",
        "19. **Combining Truncating and Padding:**  \n",
        "**Lý thuyết:** Kết hợp cắt và căn chỉnh chuỗi giúp kiểm soát cả độ dài và định dạng hiển thị của văn bản, rất hữu ích cho báo cáo tóm tắt các dự án AI.  \n",
        "**Đề bài 1:** Lấy 10 ký tự đầu của tên mô hình và căn giữa trong một trường rộng 15 ký tự.  \n",
        "\n"
      ]
    },
    {
      "cell_type": "code",
      "execution_count": null,
      "metadata": {},
      "outputs": [],
      "source": [
        "model_name = \"DeepLearningModel\"\n",
        "formatted = f\"{model_name[:10]:^15}\"\n",
        "print(f\"'{formatted}'\")\n"
      ]
    },
    {
      "cell_type": "markdown",
      "metadata": {},
      "source": [
        "\n",
        "**Đề bài 2:** Cho tên một dataset dài, cắt thành 8 ký tự và căn phải trong một trường rộng 20 ký tự.  \n",
        "\n"
      ]
    },
    {
      "cell_type": "code",
      "execution_count": null,
      "metadata": {},
      "outputs": [],
      "source": [
        "dataset_name = \"LargeScaleImageDataset\"\n",
        "formatted = f\"{dataset_name[:8]:>20}\"\n",
        "print(f\"'{formatted}'\")"
      ]
    },
    {
      "cell_type": "markdown",
      "metadata": {},
      "source": [
        "\n",
        "\n",
        "\n",
        "\n",
        "\n",
        "20. **Numbers (Các phép toán nâng cao):**  \n",
        "**Lý thuyết:** Các hàm toán học nâng cao rất cần thiết trong việc tính toán các chỉ số như logarithm, căn bậc hai hay perplexity trong mô hình ngôn ngữ.  \n",
        "**Đề bài 1:** Sử dụng module `math` để tính căn bậc hai của một số đại diện cho một chỉ số lỗi.  \n",
        "\n"
      ]
    },
    {
      "cell_type": "code",
      "execution_count": null,
      "metadata": {},
      "outputs": [],
      "source": [
        "import math\n",
        "error = 16\n",
        "sqrt_error = math.sqrt(error)\n",
        "print(\"Căn bậc hai của error:\", sqrt_error)"
      ]
    },
    {
      "cell_type": "markdown",
      "metadata": {},
      "source": [
        "\n",
        "\n",
        "**Đề bài 2:** Sử dụng module `math` để tính logarithm tự nhiên của perplexity (giá trị giả định), sau đó tính exp để kiểm chứng.  \n",
        "\n"
      ]
    },
    {
      "cell_type": "code",
      "execution_count": null,
      "metadata": {},
      "outputs": [],
      "source": [
        "import math\n",
        "perplexity = 20.0\n",
        "log_perplexity = math.log(perplexity)\n",
        "reconstructed = math.exp(log_perplexity)\n",
        "print(\"Logarithm của perplexity:\", log_perplexity)\n",
        "print(\"Exp(log_perplexity) =\", reconstructed)"
      ]
    },
    {
      "cell_type": "markdown",
      "metadata": {},
      "source": [
        "\n",
        "\n",
        "\n",
        "\n",
        "\n",
        "21. **Padding Numbers:**  \n",
        "**Lý thuyết:** Padding số (thêm số 0 ở đầu) giúp định dạng các chỉ số hay phiên bản của mô hình theo một định dạng cố định, rất hữu ích trong báo cáo hay log file.  \n",
        "**Đề bài 1:** Định dạng số phiên bản của mô hình thành số có 3 chữ số với số 0 ở đầu.  \n",
        "\n"
      ]
    },
    {
      "cell_type": "code",
      "execution_count": null,
      "metadata": {},
      "outputs": [],
      "source": [
        "version = 5\n",
        "formatted_version = f\"{version:03d}\"\n",
        "print(\"Phiên bản mô hình:\", formatted_version)"
      ]
    },
    {
      "cell_type": "markdown",
      "metadata": {},
      "source": [
        "\n",
        "\n",
        "**Đề bài 2:** Cho số bước huấn luyện (training steps) lớn, định dạng nó thành số có 10 chữ số với số 0 ở đầu.  \n",
        "\n"
      ]
    },
    {
      "cell_type": "code",
      "execution_count": null,
      "metadata": {},
      "outputs": [],
      "source": [
        "training_steps = 123456\n",
        "formatted_steps = f\"{training_steps:010d}\"\n",
        "print(\"Training steps:\", formatted_steps)\n"
      ]
    },
    {
      "cell_type": "markdown",
      "metadata": {},
      "source": [
        "\n",
        "\n",
        "\n",
        "\n",
        "22. **Index of a Substring in a Python String:**  \n",
        "**Lý thuyết:** Tìm chỉ số của một chuỗi con trong chuỗi chính có thể giúp trích xuất thông tin từ log hay báo cáo của các thí nghiệm AI.  \n",
        "**Đề bài 1:** Tìm chỉ số của chuỗi `\"AI\"` trong một mô tả dự án.  \n",
        "\n"
      ]
    },
    {
      "cell_type": "code",
      "execution_count": null,
      "metadata": {},
      "outputs": [],
      "source": [
        "description = \"This project uses AI to improve healthcare solutions.\"\n",
        "index = description.find(\"AI\")\n",
        "print(\"Chỉ số của 'AI':\", index)"
      ]
    },
    {
      "cell_type": "markdown",
      "metadata": {},
      "source": [
        "\n",
        "\n",
        "**Đề bài 2:** Trong một log file của quá trình huấn luyện deep learning, tìm vị trí xuất hiện của từ `\"loss\"` và in ra.  \n",
        "\n"
      ]
    },
    {
      "cell_type": "code",
      "execution_count": null,
      "metadata": {},
      "outputs": [],
      "source": [
        "log_entry = \"Epoch 30: loss=0.2567, accuracy=91.2%\"\n",
        "index = log_entry.find(\"loss\")\n",
        "print(\"Chỉ số của 'loss' trong log:\", index)\n",
        "\n"
      ]
    },
    {
      "cell_type": "markdown",
      "metadata": {},
      "source": [
        "\n",
        "\n",
        "\n",
        "23. **Replace One String with Another String Using Regular Expressions:**  \n",
        "**Lý thuyết:** Module `re` hỗ trợ thay thế các chuỗi theo mẫu (regex), rất hữu ích để làm sạch hoặc ẩn thông tin nhạy cảm trong log của các dự án AI.  \n",
        "**Đề bài 1:** Sử dụng `re` để thay thế tất cả các chữ số trong một chuỗi (ví dụ: mã mô hình) bằng ký tự `*`.  \n"
      ]
    },
    {
      "cell_type": "code",
      "execution_count": null,
      "metadata": {},
      "outputs": [],
      "source": [
        "\n",
        "import re\n",
        "model_id = \"ModelID12345\"\n",
        "masked_id = re.sub(r'\\d', '*', model_id)\n",
        "print(\"Mã mô hình sau khi ẩn:\", masked_id)"
      ]
    },
    {
      "cell_type": "markdown",
      "metadata": {},
      "source": [
        "\n",
        "\n",
        "**Đề bài 2:** Cho log file chứa version của mô hình ở dạng `v1.2.3`, sử dụng `re` để thay thế các version cụ thể bằng chuỗi `'vX.X.X'` nhằm ẩn thông tin phiên bản.  \n",
        "\n"
      ]
    },
    {
      "cell_type": "code",
      "execution_count": null,
      "metadata": {},
      "outputs": [],
      "source": [
        "import re\n",
        "log = \"Training started for model v1.2.3 on 2025-02-12.\"\n",
        "anonymized_log = re.sub(r'v\\d+\\.\\d+\\.\\d+', 'vX.X.X', log)\n",
        "print(\"Log ẩn phiên bản:\", anonymized_log)"
      ]
    },
    {
      "cell_type": "markdown",
      "metadata": {},
      "source": [
        "\n",
        "\n",
        "\n",
        "\n",
        "\n",
        "Mỗi phần trên đều bao gồm 2 câu hỏi (một câu dễ, một câu khó) liên quan đến AI, Machine Learning và Deep Learning. Bạn có thể chạy từng cell riêng lẻ trong Colab để kiểm tra kết quả."
      ]
    }
  ],
  "metadata": {
    "colab": {
      "provenance": []
    },
    "kernelspec": {
      "display_name": "Python 3",
      "name": "python3"
    },
    "language_info": {
      "codemirror_mode": {
        "name": "ipython",
        "version": 3
      },
      "file_extension": ".py",
      "mimetype": "text/x-python",
      "name": "python",
      "nbconvert_exporter": "python",
      "pygments_lexer": "ipython3",
      "version": "3.12.9"
    }
  },
  "nbformat": 4,
  "nbformat_minor": 0
}
