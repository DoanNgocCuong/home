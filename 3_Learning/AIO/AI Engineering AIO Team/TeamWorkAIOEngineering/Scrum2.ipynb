{
 "cells": [
  {
   "cell_type": "markdown",
   "metadata": {},
   "source": [
    "SCRUM Sprint 2\n",
    "- Jira và Confluence \n",
    "- UML"
   ]
  }
 ],
 "metadata": {
  "language_info": {
   "name": "python"
  }
 },
 "nbformat": 4,
 "nbformat_minor": 2
}
