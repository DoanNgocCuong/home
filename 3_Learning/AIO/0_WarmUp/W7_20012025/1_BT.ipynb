{
 "cells": [
  {
   "cell_type": "markdown",
   "metadata": {},
   "source": [
    "[EXERCISE WARM UP- [Week 7]](https://docs.google.com/forms/d/e/1FAIpQLSdlemJd6pphyMKSx7r1P8c23NU5js4x5wEVSs1uIrvhc6HB1Q/viewform)\n",
    "\n"
   ]
  },
  {
   "cell_type": "markdown",
   "metadata": {},
   "source": [
    "# Linear Regression - Implementation Using Numpy"
   ]
  },
  {
   "cell_type": "markdown",
   "metadata": {},
   "source": [
    "Ngày 18 tháng 1 năm 2025"
   ]
  },
  {
   "cell_type": "markdown",
   "metadata": {},
   "source": [
    "Giới thiệu về bài tập: Ở phần bài tập này các bạn sẽ được ôn tập cách sử dụng thư viện numpy\n",
    "để thao tác trên 1D và 2D array. Dựa vào đó để giải quyết bài toán về phân tích dữ liệu dạng bảng."
   ]
  },
  {
   "cell_type": "markdown",
   "metadata": {},
   "source": [
    "## BT1: Bài tập 1: Numpy Cơ Bản\n",
    "```\n",
    "Câu hỏi 1: Câu nào sau đây là đúng để tạo mảng 1 chiều từ 0 đến 9\n",
    "a ) import numpy as np\n",
    "arr = np . arange (0 , 10 , 1)\n",
    "b ) import numpy as np\n",
    "arr = np . arange (1 , 10 , 1)\n",
    "c ) import numpy as np\n",
    "arr = np . arange (0 , 9 , 1)\n",
    "d ) import numpy as np\n",
    "arr = np . arange (1 , 11 , 1)\n",
    "```\n",
    "=> "
   ]
  },
  {
   "cell_type": "markdown",
   "metadata": {},
   "source": [
    "Let me help determine which option creates a 1-dimensional array from 0 to 9 using NumPy's arange function.\n",
    "\n",
    "The np.arange(start, stop, step) function:\n",
    "- Creates values from `start` (inclusive) to `stop` (exclusive) \n",
    "- With step size `step`\n",
    "\n",
    "Let's analyze each option:\n",
    "\n",
    "a) np.arange(0, 10, 1)  \n",
    "   - Starts at 0\n",
    "   - Stops before 10 \n",
    "   - Step of 1\n",
    "   - Creates: [0,1,2,3,4,5,6,7,8,9] ✓\n",
    "\n",
    "b) np.arange(1, 10, 1)\n",
    "   - Starts at 1\n",
    "   - Stops before 10\n",
    "   - Creates: [1,2,3,4,5,6,7,8,9] ✗\n",
    "   - Missing 0\n",
    "\n",
    "c) np.arange(0, 9, 1)\n",
    "   - Stops before 9\n",
    "   - Creates: [0,1,2,3,4,5,6,7,8] ✗ \n",
    "   - Missing 9\n",
    "\n",
    "d) np.arange(1, 11, 1)\n",
    "   - Starts at 1\n",
    "   - Creates: [1,2,3,4,5,6,7,8,9,10] ✗\n",
    "   - Wrong range\n",
    "\n",
    "Answer: Option **a** is correct because np.arange(0, 10, 1) generates exactly [0,1,2,3,4,5,6,7,8,9].\n",
    "\n",
    "Here's a verification:\n",
    "\n"
   ]
  },
  {
   "cell_type": "code",
   "execution_count": 1,
   "metadata": {},
   "outputs": [
    {
     "name": "stdout",
     "output_type": "stream",
     "text": [
      "[0 1 2 3 4 5 6 7 8 9]\n"
     ]
    }
   ],
   "source": [
    "import numpy as np\n",
    "arr = np.arange(0, 10, 1)\n",
    "print(arr)  # [0 1 2 3 4 5 6 7 8 9]"
   ]
  },
  {
   "cell_type": "markdown",
   "metadata": {},
   "source": [
    "## 2. Câu hỏi 2: Cách tạo một mảng boolean 3x3 với tất cả giá trị là True\n",
    "```\n",
    "a ) arr = np . ones ((3 ,3) ) > 0\n",
    "b ) arr = np . ones ((3 ,3) , dtype = bool )\n",
    "c ) arr = np . full ((3 ,3) , fill_value = True , dtype = bool )\n",
    "d ) a , b and c\n",
    "```"
   ]
  },
  {
   "cell_type": "code",
   "execution_count": 1,
   "metadata": {},
   "outputs": [
    {
     "name": "stdout",
     "output_type": "stream",
     "text": [
      "\n",
      "Method a:\n",
      "Shape: (3, 3)\n",
      "dtype: bool\n",
      "Values:\n",
      "[[ True  True  True]\n",
      " [ True  True  True]\n",
      " [ True  True  True]]\n",
      "\n",
      "Method b:\n",
      "Shape: (3, 3)\n",
      "dtype: bool\n",
      "Values:\n",
      "[[ True  True  True]\n",
      " [ True  True  True]\n",
      " [ True  True  True]]\n",
      "\n",
      "Method c:\n",
      "Shape: (3, 3)\n",
      "dtype: bool\n",
      "Values:\n",
      "[[ True  True  True]\n",
      " [ True  True  True]\n",
      " [ True  True  True]]\n"
     ]
    }
   ],
   "source": [
    "import numpy as np\n",
    "\n",
    "# Method a\n",
    "arr_a = np.ones((3,3)) > 0\n",
    "\n",
    "# Method b\n",
    "arr_b = np.ones((3,3), dtype=bool)\n",
    "\n",
    "# Method c\n",
    "arr_c = np.full((3,3), fill_value=True, dtype=bool)\n",
    "\n",
    "# Verify each array\n",
    "for name, arr in [('a', arr_a), ('b', arr_b), ('c', arr_c)]:\n",
    "    print(f\"\\nMethod {name}:\")\n",
    "    print(f\"Shape: {arr.shape}\")\n",
    "    print(f\"dtype: {arr.dtype}\")\n",
    "    print(f\"Values:\\n{arr}\")"
   ]
  },
  {
   "cell_type": "markdown",
   "metadata": {},
   "source": [
    "## 3. "
   ]
  },
  {
   "cell_type": "code",
   "execution_count": 7,
   "metadata": {},
   "outputs": [
    {
     "name": "stdout",
     "output_type": "stream",
     "text": [
      "[0 1 2 3 4 5 6 7 8 9]\n",
      "[0 1 0 1 0 1 0 1 0 1]\n",
      "[False  True False  True False  True False  True False  True]\n",
      "<class 'numpy.ndarray'>\n",
      "[1 3 5 7 9]\n"
     ]
    }
   ],
   "source": [
    "import numpy as np\n",
    "\n",
    "# Create array [0,1,2,3,4,5,6,7,8,9]\n",
    "arr = np.arange(0,10)\n",
    "\n",
    "# Filter array for odd numbers using boolean indexing\n",
    "# arr % 2 creates [0,1,0,1,0,1,0,1,0,1]\n",
    "# arr % 2 == 1 creates [F,T,F,T,F,T,F,T,F,T]\n",
    "# arr[arr % 2 == 1] selects elements where condition is True\n",
    "print(arr)\n",
    "print(arr % 2)\n",
    "print(arr % 2 == 1), print(type(arr % 2 ==1))\n",
    "# print(arr[False  True False  True False  True False  True False  True])\n",
    "print(arr[arr % 2 == 1])  # Output: [1 3 5 7 9]"
   ]
  },
  {
   "cell_type": "markdown",
   "metadata": {},
   "source": [
    "Let me help answer these questions by analyzing each code section:\n",
    "\n",
    "**Question 4:**\n"
   ]
  },
  {
   "cell_type": "code",
   "execution_count": 5,
   "metadata": {},
   "outputs": [
    {
     "name": "stdout",
     "output_type": "stream",
     "text": [
      "[ 0 -1  2 -1  4 -1  6 -1  8 -1]\n"
     ]
    }
   ],
   "source": [
    "import numpy as np\n",
    "arr = np.arange(0,10)  # Creates [0,1,2,3,4,5,6,7,8,9]\n",
    "arr[arr % 2 == 1] = -1 # Replaces odd numbers with -1\n",
    "print(arr)"
   ]
  },
  {
   "cell_type": "markdown",
   "metadata": {},
   "source": [
    "Answer: **b) [0 -1 2 -1 4 -1 6 -1 8 -1]**\n",
    "\n",
    "**Question 5:**\n"
   ]
  },
  {
   "cell_type": "code",
   "execution_count": 16,
   "metadata": {},
   "outputs": [
    {
     "name": "stdout",
     "output_type": "stream",
     "text": [
      "[0 1 2 3 4 5 6 7 8 9]\n",
      "[[0 1 2 3 4]\n",
      " [5 6 7 8 9]]\n",
      "[0 2 4 6 8]\n",
      "Đã xảy ra lỗi: cannot reshape array of size 5 into shape (2,newaxis)\n"
     ]
    }
   ],
   "source": [
    "import numpy as np\n",
    "arr = np.arange(10)      # Creates [0,1,2,3,4,5,6,7,8,9]\n",
    "print(arr)\n",
    "arr_2d = arr.reshape(2,-1) # Reshapes to 2 rows, cols auto-calculated,  chuyển đổi mảng một chiều arr thành một mảng hai chiều arr_2d. \n",
    "# Hàm reshape(2, -1) có nghĩa là bạn muốn có 2 hàng, và số cột sẽ được tự động tính toán dựa trên kích thước của mảng gốc\n",
    "print(arr_2d)\n",
    "\n",
    "try:\n",
    "    # Tạo một mảng với 5 phần tử\n",
    "    arr = np.arange(0, 9, 2)  # Kết quả: [0, 2, 4, 6, 8]\n",
    "    print(arr)\n",
    "\n",
    "    # Cố gắng thay đổi hình dạng của mảng thành (2, -1)\n",
    "    arr_reshaped = arr.reshape(2, -1)  # Có thể gây lỗi nếu kích thước không phù hợp\n",
    "    print(arr_reshaped)\n",
    "\n",
    "except ValueError as e:\n",
    "    # Bắt lỗi ValueError và in ra thông báo\n",
    "    print(\"Đã xảy ra lỗi:\", e)"
   ]
  },
  {
   "cell_type": "markdown",
   "metadata": {},
   "source": [
    "Answer: **b) [[0 1 2 3 4] [5 6 7 8 9]]**\n",
    "\n",
    "**Question 6:**\n"
   ]
  },
  {
   "cell_type": "code",
   "execution_count": 21,
   "metadata": {},
   "outputs": [
    {
     "name": "stdout",
     "output_type": "stream",
     "text": [
      "[[0 1 2 3 4]\n",
      " [5 6 7 8 9]]\n",
      "[[2 2 2 2 2]\n",
      " [2 2 2 2 2]]\n",
      "Result:\n",
      " [[0 1 2 3 4]\n",
      " [5 6 7 8 9]\n",
      " [2 2 2 2 2]\n",
      " [2 2 2 2 2]]\n",
      "Result: \n",
      " [[0 1 2 3 4 2 2 2 2 2]\n",
      " [5 6 7 8 9 2 2 2 2 2]]\n"
     ]
    }
   ],
   "source": [
    "import numpy as np\n",
    "arr1 = np.arange(10).reshape(2,-1)  # 2x5 array of 0-9\n",
    "print(arr1)\n",
    "arr2 = np.repeat(2,10).reshape(2,-1) # 2x5 array of ones\n",
    "print(arr2)\n",
    "c_doc = np.concatenate([arr1,arr2], axis=0) # Stack vertically\n",
    "print(\"Result:\\n\", c_doc)\n",
    "\n",
    "c_ngang = np.concatenate([arr1, arr2], axis=1)\n",
    "print(\"Result: \\n\", c_ngang)"
   ]
  },
  {
   "cell_type": "markdown",
   "metadata": {},
   "source": [
    "Answer: **a) [[0 1 2 3 4] [5 6 7 8 9] [1 1 1 1 1] [1 1 1 1 1]]**\n",
    "\n",
    "For brevity, I'll stop here. Would you like me to continue with the remaining questions?"
   ]
  },
  {
   "cell_type": "markdown",
   "metadata": {},
   "source": [
    "Let's continue analyzing the remaining questions:\n",
    "\n",
    "**Question 7:**\n"
   ]
  },
  {
   "cell_type": "code",
   "execution_count": null,
   "metadata": {},
   "outputs": [],
   "source": [
    "import numpy as np\n",
    "arr1 = np.arange(10).reshape(2,-5)  # [[0,1,2,3,4],[5,6,7,8,9]]\n",
    "arr2 = np.repeat(1,10).reshape(2,-5) # [[1,1,1,1,1],[1,1,1,1,1]]\n",
    "c = np.concatenate([arr1,arr2], axis=1) # Stack horizontally\n",
    "print(\"C = \", c)"
   ]
  },
  {
   "cell_type": "markdown",
   "metadata": {},
   "source": [
    "Answer: **c) [[0 1 2 3 4 1 1 1 1 1] [5 6 7 8 9 1 1 1 1 1]]**\n",
    "\n",
    "**Question 8:**\n"
   ]
  },
  {
   "cell_type": "code",
   "execution_count": 23,
   "metadata": {},
   "outputs": [
    {
     "name": "stdout",
     "output_type": "stream",
     "text": [
      "[1 2 3]\n",
      "[1 1 1 1 2 2 2 2 3 3 3 3]\n",
      "[1 2 3 1 2 3 1 2 3]\n"
     ]
    }
   ],
   "source": [
    "import numpy as np\n",
    "arr = np.array([1,2,3])\n",
    "print(arr)\n",
    "print(np.repeat(arr,4))  # Repeats each element 3 times\n",
    "print(np.tile(arr,3))    # Repeats entire array 3 times"
   ]
  },
  {
   "cell_type": "markdown",
   "metadata": {},
   "source": [
    "Answer: **a) [1 1 1 2 2 2 3 3 3] [1 2 3 1 2 3 1 2 3]**\n",
    "\n",
    "**Question 9:**\n"
   ]
  },
  {
   "cell_type": "code",
   "execution_count": 25,
   "metadata": {},
   "outputs": [
    {
     "name": "stdout",
     "output_type": "stream",
     "text": [
      "result [ 6  9 10]\n"
     ]
    }
   ],
   "source": [
    "import numpy as np\n",
    "a = np.array([2,6,1,9,10,3,27])\n",
    "index = np.where((a >= 5) & (a <= 10))\n",
    "\n",
    "print(\"result\", a[index])"
   ]
  },
  {
   "cell_type": "markdown",
   "metadata": {},
   "source": [
    "Answer: **c) [6 9 10]**\n",
    "\n",
    "**Question 10:**\n"
   ]
  },
  {
   "cell_type": "code",
   "execution_count": null,
   "metadata": {},
   "outputs": [],
   "source": [
    "import numpy as np\n",
    "def maxx(x, y):\n",
    "    if x >= y: return x\n",
    "    else: return y\n",
    "    \n",
    "a = np.array([5,7,9,8,6,4,5])\n",
    "b = np.array([6,3,4,8,9,7,1])\n",
    "pair_max = np.vectorize(maxx, otypes=[float])\n",
    "print(pair_max(a, b))"
   ]
  },
  {
   "cell_type": "markdown",
   "metadata": {},
   "source": [
    "Answer: **d) [6. 7. 9. 8. 9. 7. 5.]**\n",
    "\n",
    "**Question 11:**\n"
   ]
  },
  {
   "cell_type": "code",
   "execution_count": 26,
   "metadata": {},
   "outputs": [
    {
     "name": "stdout",
     "output_type": "stream",
     "text": [
      "Result [6 7 9 8 9 7 5]\n"
     ]
    }
   ],
   "source": [
    "import numpy as np\n",
    "a = np.array([5,7,9,8,6,4,5])\n",
    "b = np.array([6,3,4,8,9,7,1])\n",
    "print(\"Result\", np.where(a < b, b, a))"
   ]
  },
  {
   "cell_type": "markdown",
   "metadata": {},
   "source": [
    "Answer: **a) [6. 7. 9. 8. 9. 7. 5.]**\n",
    "\n",
    "Similar code found with 1 license type"
   ]
  },
  {
   "cell_type": "markdown",
   "metadata": {},
   "source": [
    "# 2. Bài tập 2: Phân tích dữ liệu dạng bảng - Tối 21/01/2025 - 22h - 23h hơn tối"
   ]
  },
  {
   "cell_type": "code",
   "execution_count": 5,
   "metadata": {},
   "outputs": [
    {
     "name": "stdout",
     "output_type": "stream",
     "text": [
      "        TV  Radio  Newspaper  Sales\n",
      "0    230.1   37.8       69.2   22.1\n",
      "1     44.5   39.3       45.1   10.4\n",
      "2     17.2   45.9       69.3   12.0\n",
      "3    151.5   41.3       58.5   16.5\n",
      "4    180.8   10.8       58.4   17.9\n",
      "..     ...    ...        ...    ...\n",
      "195   38.2    3.7       13.8    7.6\n",
      "196   94.2    4.9        8.1   14.0\n",
      "197  177.0    9.3        6.4   14.8\n",
      "198  283.6   42.0       66.2   25.5\n",
      "199  232.1    8.6        8.7   18.4\n",
      "\n",
      "[200 rows x 4 columns]\n",
      "[[230.1  37.8  69.2  22.1]\n",
      " [ 44.5  39.3  45.1  10.4]\n",
      " [ 17.2  45.9  69.3  12. ]\n",
      " [151.5  41.3  58.5  16.5]\n",
      " [180.8  10.8  58.4  17.9]\n",
      " [  8.7  48.9  75.    7.2]\n",
      " [ 57.5  32.8  23.5  11.8]\n",
      " [120.2  19.6  11.6  13.2]\n",
      " [  8.6   2.1   1.    4.8]\n",
      " [199.8   2.6  21.2  15.6]\n",
      " [ 66.1   5.8  24.2  12.6]\n",
      " [214.7  24.    4.   17.4]\n",
      " [ 23.8  35.1  65.9   9.2]\n",
      " [ 97.5   7.6   7.2  13.7]\n",
      " [204.1  32.9  46.   19. ]\n",
      " [195.4  47.7  52.9  22.4]\n",
      " [ 67.8  36.6 114.   12.5]\n",
      " [281.4  39.6  55.8  24.4]\n",
      " [ 69.2  20.5  18.3  11.3]\n",
      " [147.3  23.9  19.1  14.6]\n",
      " [218.4  27.7  53.4  18. ]\n",
      " [237.4   5.1  23.5  17.5]\n",
      " [ 13.2  15.9  49.6   5.6]\n",
      " [228.3  16.9  26.2  20.5]\n",
      " [ 62.3  12.6  18.3   9.7]\n",
      " [262.9   3.5  19.5  17. ]\n",
      " [142.9  29.3  12.6  15. ]\n",
      " [240.1  16.7  22.9  20.9]\n",
      " [248.8  27.1  22.9  18.9]\n",
      " [ 70.6  16.   40.8  10.5]\n",
      " [292.9  28.3  43.2  21.4]\n",
      " [112.9  17.4  38.6  11.9]\n",
      " [ 97.2   1.5  30.   13.2]\n",
      " [265.6  20.    0.3  17.4]\n",
      " [ 95.7   1.4   7.4  11.9]\n",
      " [290.7   4.1   8.5  17.8]\n",
      " [266.9  43.8   5.   25.4]\n",
      " [ 74.7  49.4  45.7  14.7]\n",
      " [ 43.1  26.7  35.1  10.1]\n",
      " [228.   37.7  32.   21.5]\n",
      " [202.5  22.3  31.6  16.6]\n",
      " [177.   33.4  38.7  17.1]\n",
      " [293.6  27.7   1.8  20.7]\n",
      " [206.9   8.4  26.4  17.9]\n",
      " [ 25.1  25.7  43.3   8.5]\n",
      " [175.1  22.5  31.5  16.1]\n",
      " [ 89.7   9.9  35.7  10.6]\n",
      " [239.9  41.5  18.5  23.2]\n",
      " [227.2  15.8  49.9  19.8]\n",
      " [ 66.9  11.7  36.8   9.7]\n",
      " [199.8   3.1  34.6  16.4]\n",
      " [100.4   9.6   3.6  10.7]\n",
      " [216.4  41.7  39.6  22.6]\n",
      " [182.6  46.2  58.7  21.2]\n",
      " [262.7  28.8  15.9  20.2]\n",
      " [198.9  49.4  60.   23.7]\n",
      " [  7.3  28.1  41.4   5.5]\n",
      " [136.2  19.2  16.6  13.2]\n",
      " [210.8  49.6  37.7  23.8]\n",
      " [210.7  29.5   9.3  18.4]\n",
      " [ 53.5   2.   21.4   8.1]\n",
      " [261.3  42.7  54.7  24.2]\n",
      " [239.3  15.5  27.3  20.7]\n",
      " [102.7  29.6   8.4  14. ]\n",
      " [131.1  42.8  28.9  16. ]\n",
      " [ 69.    9.3   0.9  11.3]\n",
      " [ 31.5  24.6   2.2  11. ]\n",
      " [139.3  14.5  10.2  13.4]\n",
      " [237.4  27.5  11.   18.9]\n",
      " [216.8  43.9  27.2  22.3]\n",
      " [199.1  30.6  38.7  18.3]\n",
      " [109.8  14.3  31.7  12.4]\n",
      " [ 26.8  33.   19.3   8.8]\n",
      " [129.4   5.7  31.3  11. ]\n",
      " [213.4  24.6  13.1  17. ]\n",
      " [ 16.9  43.7  89.4   8.7]\n",
      " [ 27.5   1.6  20.7   6.9]\n",
      " [120.5  28.5  14.2  14.2]\n",
      " [  5.4  29.9   9.4   5.3]\n",
      " [116.    7.7  23.1  11. ]\n",
      " [ 76.4  26.7  22.3  11.8]\n",
      " [239.8   4.1  36.9  17.3]\n",
      " [ 75.3  20.3  32.5  11.3]\n",
      " [ 68.4  44.5  35.6  13.6]\n",
      " [213.5  43.   33.8  21.7]\n",
      " [193.2  18.4  65.7  20.2]\n",
      " [ 76.3  27.5  16.   12. ]\n",
      " [110.7  40.6  63.2  16. ]\n",
      " [ 88.3  25.5  73.4  12.9]\n",
      " [109.8  47.8  51.4  16.7]\n",
      " [134.3   4.9   9.3  14. ]\n",
      " [ 28.6   1.5  33.    7.3]\n",
      " [217.7  33.5  59.   19.4]\n",
      " [250.9  36.5  72.3  22.2]\n",
      " [107.4  14.   10.9  11.5]\n",
      " [163.3  31.6  52.9  16.9]\n",
      " [197.6   3.5   5.9  16.7]\n",
      " [184.9  21.   22.   20.5]\n",
      " [289.7  42.3  51.2  25.4]\n",
      " [135.2  41.7  45.9  17.2]\n",
      " [222.4   4.3  49.8  16.7]\n",
      " [296.4  36.3 100.9  23.8]\n",
      " [280.2  10.1  21.4  19.8]\n",
      " [187.9  17.2  17.9  19.7]\n",
      " [238.2  34.3   5.3  20.7]\n",
      " [137.9  46.4  59.   15. ]\n",
      " [ 25.   11.   29.7   7.2]\n",
      " [ 90.4   0.3  23.2  12. ]\n",
      " [ 13.1   0.4  25.6   5.3]\n",
      " [255.4  26.9   5.5  19.8]\n",
      " [225.8   8.2  56.5  18.4]\n",
      " [241.7  38.   23.2  21.8]\n",
      " [175.7  15.4   2.4  17.1]\n",
      " [209.6  20.6  10.7  20.9]\n",
      " [ 78.2  46.8  34.5  14.6]\n",
      " [ 75.1  35.   52.7  12.6]\n",
      " [139.2  14.3  25.6  12.2]\n",
      " [ 76.4   0.8  14.8   9.4]\n",
      " [125.7  36.9  79.2  15.9]\n",
      " [ 19.4  16.   22.3   6.6]\n",
      " [141.3  26.8  46.2  15.5]\n",
      " [ 18.8  21.7  50.4   7. ]\n",
      " [224.    2.4  15.6  16.6]\n",
      " [123.1  34.6  12.4  15.2]\n",
      " [229.5  32.3  74.2  19.7]\n",
      " [ 87.2  11.8  25.9  10.6]\n",
      " [  7.8  38.9  50.6   6.6]\n",
      " [ 80.2   0.    9.2  11.9]\n",
      " [220.3  49.    3.2  24.7]\n",
      " [ 59.6  12.   43.1   9.7]\n",
      " [  0.7  39.6   8.7   1.6]\n",
      " [265.2   2.9  43.   17.7]\n",
      " [  8.4  27.2   2.1   5.7]\n",
      " [219.8  33.5  45.1  19.6]\n",
      " [ 36.9  38.6  65.6  10.8]\n",
      " [ 48.3  47.    8.5  11.6]\n",
      " [ 25.6  39.    9.3   9.5]\n",
      " [273.7  28.9  59.7  20.8]\n",
      " [ 43.   25.9  20.5   9.6]\n",
      " [184.9  43.9   1.7  20.7]\n",
      " [ 73.4  17.   12.9  10.9]\n",
      " [193.7  35.4  75.6  19.2]\n",
      " [220.5  33.2  37.9  20.1]\n",
      " [104.6   5.7  34.4  10.4]\n",
      " [ 96.2  14.8  38.9  12.3]\n",
      " [140.3   1.9   9.   10.3]\n",
      " [240.1   7.3   8.7  18.2]\n",
      " [243.2  49.   44.3  25.4]\n",
      " [ 38.   40.3  11.9  10.9]\n",
      " [ 44.7  25.8  20.6  10.1]\n",
      " [280.7  13.9  37.   16.1]\n",
      " [121.    8.4  48.7  11.6]\n",
      " [197.6  23.3  14.2  16.6]\n",
      " [171.3  39.7  37.7  16. ]\n",
      " [187.8  21.1   9.5  20.6]\n",
      " [  4.1  11.6   5.7   3.2]\n",
      " [ 93.9  43.5  50.5  15.3]\n",
      " [149.8   1.3  24.3  10.1]\n",
      " [ 11.7  36.9  45.2   7.3]\n",
      " [131.7  18.4  34.6  12.9]\n",
      " [172.5  18.1  30.7  16.4]\n",
      " [ 85.7  35.8  49.3  13.3]\n",
      " [188.4  18.1  25.6  19.9]\n",
      " [163.5  36.8   7.4  18. ]\n",
      " [117.2  14.7   5.4  11.9]\n",
      " [234.5   3.4  84.8  16.9]\n",
      " [ 17.9  37.6  21.6   8. ]\n",
      " [206.8   5.2  19.4  17.2]\n",
      " [215.4  23.6  57.6  17.1]\n",
      " [284.3  10.6   6.4  20. ]\n",
      " [ 50.   11.6  18.4   8.4]\n",
      " [164.5  20.9  47.4  17.5]\n",
      " [ 19.6  20.1  17.    7.6]\n",
      " [168.4   7.1  12.8  16.7]\n",
      " [222.4   3.4  13.1  16.5]\n",
      " [276.9  48.9  41.8  27. ]\n",
      " [248.4  30.2  20.3  20.2]\n",
      " [170.2   7.8  35.2  16.7]\n",
      " [276.7   2.3  23.7  16.8]\n",
      " [165.6  10.   17.6  17.6]\n",
      " [156.6   2.6   8.3  15.5]\n",
      " [218.5   5.4  27.4  17.2]\n",
      " [ 56.2   5.7  29.7   8.7]\n",
      " [287.6  43.   71.8  26.2]\n",
      " [253.8  21.3  30.   17.6]\n",
      " [205.   45.1  19.6  22.6]\n",
      " [139.5   2.1  26.6  10.3]\n",
      " [191.1  28.7  18.2  17.3]\n",
      " [286.   13.9   3.7  20.9]\n",
      " [ 18.7  12.1  23.4   6.7]\n",
      " [ 39.5  41.1   5.8  10.8]\n",
      " [ 75.5  10.8   6.   11.9]\n",
      " [ 17.2   4.1  31.6   5.9]\n",
      " [166.8  42.    3.6  19.6]\n",
      " [149.7  35.6   6.   17.3]\n",
      " [ 38.2   3.7  13.8   7.6]\n",
      " [ 94.2   4.9   8.1  14. ]\n",
      " [177.    9.3   6.4  14.8]\n",
      " [283.6  42.   66.2  25.5]\n",
      " [232.1   8.6   8.7  18.4]]\n"
     ]
    }
   ],
   "source": [
    "import pandas as pd\n",
    "df = pd . read_csv ('./advertising.csv')\n",
    "print(df)\n",
    "data = df . to_numpy ()\n",
    "print(data)"
   ]
  },
  {
   "cell_type": "markdown",
   "metadata": {},
   "source": [
    "Các câu hỏi phần này ứng dụng numpy trong phân tích dữ liệu dạng bảng, được mô tả gồm các cột và\n",
    "một số hàng như sau:"
   ]
  },
  {
   "cell_type": "markdown",
   "metadata": {},
   "source": [
    "## 12\n",
    "```\n",
    "Câu hỏi 12: Lấy giá trị lớn nhất và chỉ mục tương ứng của nó trên cột Sales:\n",
    "a) Max: 25 - Index: 30\n",
    "b) Max: 27 - Index: 30\n",
    "c) Max: 27 - Index: 175\n",
    "d) Max: 25 - Index: 175\n",
    "```"
   ]
  },
  {
   "cell_type": "markdown",
   "metadata": {},
   "source": [
    "Chọn c\n"
   ]
  },
  {
   "cell_type": "code",
   "execution_count": 7,
   "metadata": {},
   "outputs": [
    {
     "name": "stdout",
     "output_type": "stream",
     "text": [
      "TVs: [230.1, 44.5, 17.2]\n",
      "Radios: [37.8, 39.3, 45.9]\n",
      "newspapers: [69.2, 45.1, 69.3, 58.5, 58.4]\n",
      "sales: [22.1, 10.4, 12.0, 16.5, 17.9]\n"
     ]
    }
   ],
   "source": [
    "import numpy as np\n",
    "data = np.genfromtxt('advertising.csv', delimiter=',', skip_header=1).tolist()\n",
    "\n",
    "TVs = []\n",
    "radios = []\n",
    "newspapers = []\n",
    "sales = []\n",
    "\n",
    "for sample in data: \n",
    "    TVs.append(sample[0])\n",
    "    radios.append(sample[1])\n",
    "    newspapers.append(sample[2])\n",
    "    sales.append(sample[3])\n",
    "print('TVs:', TVs[:3])\n",
    "print('Radios:', radios[:3])\n",
    "print('newspapers:', newspapers[:5])\n",
    "print('sales:', sales[:5])"
   ]
  },
  {
   "cell_type": "code",
   "execution_count": 15,
   "metadata": {},
   "outputs": [
    {
     "name": "stdout",
     "output_type": "stream",
     "text": [
      "27.0\n",
      "10.4\n"
     ]
    }
   ],
   "source": [
    "print(max(sales))\n",
    "print(sales[1])\n",
    "for i in range(len(sales)): \n",
    "    if sales[i] == max(sales): \n",
    "        print(i)"
   ]
  },
  {
   "cell_type": "code",
   "execution_count": 17,
   "metadata": {},
   "outputs": [
    {
     "name": "stdout",
     "output_type": "stream",
     "text": [
      "Max: 27.0 - Index: 175\n"
     ]
    }
   ],
   "source": [
    "# AI chữa \n",
    "max_sales = max(sales)\n",
    "max_index = sales.index(max(sales))\n",
    "print(f\"Max: {max_sales} - Index: {max_index}\")"
   ]
  },
  {
   "cell_type": "markdown",
   "metadata": {},
   "source": [
    "## 13. \n",
    "```\n",
    "Câu hỏi 13: Giá trị trung bình của cột TV là:\n",
    "a) 146.0\n",
    "b) 147.0\n",
    "c) 148.0\n",
    "d) 149.0\n",
    "```"
   ]
  },
  {
   "cell_type": "code",
   "execution_count": 22,
   "metadata": {},
   "outputs": [
    {
     "name": "stdout",
     "output_type": "stream",
     "text": [
      "[230.1, 44.5, 17.2, 151.5, 180.8, 8.7, 57.5, 120.2, 8.6, 199.8, 66.1, 214.7, 23.8, 97.5, 204.1, 195.4, 67.8, 281.4, 69.2, 147.3, 218.4, 237.4, 13.2, 228.3, 62.3, 262.9, 142.9, 240.1, 248.8, 70.6, 292.9, 112.9, 97.2, 265.6, 95.7, 290.7, 266.9, 74.7, 43.1, 228.0, 202.5, 177.0, 293.6, 206.9, 25.1, 175.1, 89.7, 239.9, 227.2, 66.9, 199.8, 100.4, 216.4, 182.6, 262.7, 198.9, 7.3, 136.2, 210.8, 210.7, 53.5, 261.3, 239.3, 102.7, 131.1, 69.0, 31.5, 139.3, 237.4, 216.8, 199.1, 109.8, 26.8, 129.4, 213.4, 16.9, 27.5, 120.5, 5.4, 116.0, 76.4, 239.8, 75.3, 68.4, 213.5, 193.2, 76.3, 110.7, 88.3, 109.8, 134.3, 28.6, 217.7, 250.9, 107.4, 163.3, 197.6, 184.9, 289.7, 135.2, 222.4, 296.4, 280.2, 187.9, 238.2, 137.9, 25.0, 90.4, 13.1, 255.4, 225.8, 241.7, 175.7, 209.6, 78.2, 75.1, 139.2, 76.4, 125.7, 19.4, 141.3, 18.8, 224.0, 123.1, 229.5, 87.2, 7.8, 80.2, 220.3, 59.6, 0.7, 265.2, 8.4, 219.8, 36.9, 48.3, 25.6, 273.7, 43.0, 184.9, 73.4, 193.7, 220.5, 104.6, 96.2, 140.3, 240.1, 243.2, 38.0, 44.7, 280.7, 121.0, 197.6, 171.3, 187.8, 4.1, 93.9, 149.8, 11.7, 131.7, 172.5, 85.7, 188.4, 163.5, 117.2, 234.5, 17.9, 206.8, 215.4, 284.3, 50.0, 164.5, 19.6, 168.4, 222.4, 276.9, 248.4, 170.2, 276.7, 165.6, 156.6, 218.5, 56.2, 287.6, 253.8, 205.0, 139.5, 191.1, 286.0, 18.7, 39.5, 75.5, 17.2, 166.8, 149.7, 38.2, 94.2, 177.0, 283.6, 232.1]\n",
      "29408.499999999996\n",
      "Trung bình của cột TV: 147.0425\n",
      "Mean TV: 147.0425\n"
     ]
    }
   ],
   "source": [
    "print(TVs)\n",
    "sum_TVs = 0\n",
    "for i in range(len(TVs)):\n",
    "    sum_TVs += TVs[i]\n",
    "print(sum_TVs)    \n",
    "print(f\"Trung bình của cột TV: {sum_TVs/len(TVs)}\")\n",
    "\n",
    "# AI chữa\n",
    "mean_TV = np.mean(TVs)\n",
    "print(f\"Mean TV: {mean_TV}\")\n"
   ]
  },
  {
   "cell_type": "markdown",
   "metadata": {},
   "source": [
    "## 14. \n",
    "```\n",
    "Câu hỏi 14: Số lượng bản ghi có giá trị tại cột Sales lớn hơn hoặc bằng 20 là:\n",
    "a) 40\n",
    "b) 41\n",
    "c) 42\n",
    "d) 43\n",
    "```"
   ]
  },
  {
   "cell_type": "code",
   "execution_count": 41,
   "metadata": {},
   "outputs": [
    {
     "name": "stdout",
     "output_type": "stream",
     "text": [
      "[22.1, 10.4, 12.0, 16.5, 17.9, 7.2, 11.8, 13.2, 4.8, 15.6, 12.6, 17.4, 9.2, 13.7, 19.0, 22.4, 12.5, 24.4, 11.3, 14.6, 18.0, 17.5, 5.6, 20.5, 9.7, 17.0, 15.0, 20.9, 18.9, 10.5, 21.4, 11.9, 13.2, 17.4, 11.9, 17.8, 25.4, 14.7, 10.1, 21.5, 16.6, 17.1, 20.7, 17.9, 8.5, 16.1, 10.6, 23.2, 19.8, 9.7, 16.4, 10.7, 22.6, 21.2, 20.2, 23.7, 5.5, 13.2, 23.8, 18.4, 8.1, 24.2, 20.7, 14.0, 16.0, 11.3, 11.0, 13.4, 18.9, 22.3, 18.3, 12.4, 8.8, 11.0, 17.0, 8.7, 6.9, 14.2, 5.3, 11.0, 11.8, 17.3, 11.3, 13.6, 21.7, 20.2, 12.0, 16.0, 12.9, 16.7, 14.0, 7.3, 19.4, 22.2, 11.5, 16.9, 16.7, 20.5, 25.4, 17.2, 16.7, 23.8, 19.8, 19.7, 20.7, 15.0, 7.2, 12.0, 5.3, 19.8, 18.4, 21.8, 17.1, 20.9, 14.6, 12.6, 12.2, 9.4, 15.9, 6.6, 15.5, 7.0, 16.6, 15.2, 19.7, 10.6, 6.6, 11.9, 24.7, 9.7, 1.6, 17.7, 5.7, 19.6, 10.8, 11.6, 9.5, 20.8, 9.6, 20.7, 10.9, 19.2, 20.1, 10.4, 12.3, 10.3, 18.2, 25.4, 10.9, 10.1, 16.1, 11.6, 16.6, 16.0, 20.6, 3.2, 15.3, 10.1, 7.3, 12.9, 16.4, 13.3, 19.9, 18.0, 11.9, 16.9, 8.0, 17.2, 17.1, 20.0, 8.4, 17.5, 7.6, 16.7, 16.5, 27.0, 20.2, 16.7, 16.8, 17.6, 15.5, 17.2, 8.7, 26.2, 17.6, 22.6, 10.3, 17.3, 20.9, 6.7, 10.8, 11.9, 5.9, 19.6, 17.3, 7.6, 14.0, 14.8, 25.5, 18.4]\n",
      "4\n",
      "40\n",
      "[ True False False False False False False False False False False False\n",
      " False False False  True False  True False False False False False  True\n",
      " False False False  True False False  True False False False False False\n",
      "  True False False  True False False  True False False False False  True\n",
      " False False False False  True  True  True  True False False  True False\n",
      " False  True  True False False False False False False  True False False\n",
      " False False False False False False False False False False False False\n",
      "  True  True False False False False False False False  True False False\n",
      " False  True  True False False  True False False  True False False False\n",
      " False False False  True False  True False False False False False False\n",
      " False False False False False False False False  True False False False\n",
      " False False False False False  True False  True False False  True False\n",
      " False False False  True False False False False False False  True False\n",
      " False False False False False False False False False False False False\n",
      " False  True False False False False False  True  True False False False\n",
      " False False False  True False  True False False  True False False False\n",
      " False False False False False False  True False]\n",
      "40\n"
     ]
    }
   ],
   "source": [
    "# Số lượng bản ghi có giá trị tại cột Sales lớn hơn hoặc bằng 20\n",
    "test_sales = [10, 20, 30, 40, 50]\n",
    "print(sales)\n",
    "def count_sales(sales, threshold):\n",
    "    count = 0\n",
    "    for sale in sales:\n",
    "        if sale >= threshold:\n",
    "            count += 1\n",
    "    return count\n",
    "# Sử dụng hàm để đếm số lượng bản ghi có giá trị tại cột Sales lớn hơn hoặc bằng 20\n",
    "test = count_sales(test_sales, 20)\n",
    "print(test)  # Kết quả: 4\n",
    "result = count_sales(sales, 20)\n",
    "print(result)  \n",
    "\n",
    "\n",
    "# AI chữa\n",
    "np.array(sales) >= 20  # Tạo mảng numpy từ sales list\n",
    "print(np.array(sales) >= 20)  # Kết quả: [False  True  True  True  True  True  True  True  True  True]\n",
    "result = np.sum(np.array(sales) >= 20)\n",
    "print(result)"
   ]
  },
  {
   "cell_type": "code",
   "execution_count": null,
   "metadata": {},
   "outputs": [],
   "source": []
  },
  {
   "cell_type": "markdown",
   "metadata": {},
   "source": [
    "## 15. \n",
    "```\n",
    "Câu hỏi 15: Tính giá trị trung bình của cột Radio thoả mãn điều kiện giá trị tương ứng\n",
    "trên cột Sales lớn hơn hoặc bằng 15:\n",
    "a) 25.2\n",
    "b) 26.2\n",
    "c) 27.2\n",
    "d) 28.2\n",
    "```"
   ]
  },
  {
   "cell_type": "code",
   "execution_count": 33,
   "metadata": {},
   "outputs": [
    {
     "name": "stdout",
     "output_type": "stream",
     "text": [
      "Mean radio value where sales >= 15: 26.2\n"
     ]
    }
   ],
   "source": [
    "# Convert to numpy arrays for efficient filtering\n",
    "radios_arr = np.array(radios)\n",
    "sales_arr = np.array(sales)\n",
    "\n",
    "# Get radio values where sales >= 15\n",
    "filtered_radios = radios_arr[sales_arr >= 15]\n",
    "\n",
    "# Calculate mean\n",
    "mean_radio = np.mean(filtered_radios)\n",
    "print(f\"Mean radio value where sales >= 15: {mean_radio:.1f}\")\n"
   ]
  },
  {
   "cell_type": "code",
   "execution_count": 37,
   "metadata": {},
   "outputs": [
    {
     "name": "stdout",
     "output_type": "stream",
     "text": [
      "[37.8 39.3 45.9 41.3 10.8 48.9 32.8 19.6  2.1  2.6  5.8 24.  35.1  7.6\n",
      " 32.9 47.7 36.6 39.6 20.5 23.9 27.7  5.1 15.9 16.9 12.6  3.5 29.3 16.7\n",
      " 27.1 16.  28.3 17.4  1.5 20.   1.4  4.1 43.8 49.4 26.7 37.7 22.3 33.4\n",
      " 27.7  8.4 25.7 22.5  9.9 41.5 15.8 11.7  3.1  9.6 41.7 46.2 28.8 49.4\n",
      " 28.1 19.2 49.6 29.5  2.  42.7 15.5 29.6 42.8  9.3 24.6 14.5 27.5 43.9\n",
      " 30.6 14.3 33.   5.7 24.6 43.7  1.6 28.5 29.9  7.7 26.7  4.1 20.3 44.5\n",
      " 43.  18.4 27.5 40.6 25.5 47.8  4.9  1.5 33.5 36.5 14.  31.6  3.5 21.\n",
      " 42.3 41.7  4.3 36.3 10.1 17.2 34.3 46.4 11.   0.3  0.4 26.9  8.2 38.\n",
      " 15.4 20.6 46.8 35.  14.3  0.8 36.9 16.  26.8 21.7  2.4 34.6 32.3 11.8\n",
      " 38.9  0.  49.  12.  39.6  2.9 27.2 33.5 38.6 47.  39.  28.9 25.9 43.9\n",
      " 17.  35.4 33.2  5.7 14.8  1.9  7.3 49.  40.3 25.8 13.9  8.4 23.3 39.7\n",
      " 21.1 11.6 43.5  1.3 36.9 18.4 18.1 35.8 18.1 36.8 14.7  3.4 37.6  5.2\n",
      " 23.6 10.6 11.6 20.9 20.1  7.1  3.4 48.9 30.2  7.8  2.3 10.   2.6  5.4\n",
      "  5.7 43.  21.3 45.1  2.1 28.7 13.9 12.1 41.1 10.8  4.1 42.  35.6  3.7\n",
      "  4.9  9.3 42.   8.6] <class 'numpy.ndarray'>\n",
      "[22.1 10.4 12.  16.5 17.9  7.2 11.8 13.2  4.8 15.6 12.6 17.4  9.2 13.7\n",
      " 19.  22.4 12.5 24.4 11.3 14.6 18.  17.5  5.6 20.5  9.7 17.  15.  20.9\n",
      " 18.9 10.5 21.4 11.9 13.2 17.4 11.9 17.8 25.4 14.7 10.1 21.5 16.6 17.1\n",
      " 20.7 17.9  8.5 16.1 10.6 23.2 19.8  9.7 16.4 10.7 22.6 21.2 20.2 23.7\n",
      "  5.5 13.2 23.8 18.4  8.1 24.2 20.7 14.  16.  11.3 11.  13.4 18.9 22.3\n",
      " 18.3 12.4  8.8 11.  17.   8.7  6.9 14.2  5.3 11.  11.8 17.3 11.3 13.6\n",
      " 21.7 20.2 12.  16.  12.9 16.7 14.   7.3 19.4 22.2 11.5 16.9 16.7 20.5\n",
      " 25.4 17.2 16.7 23.8 19.8 19.7 20.7 15.   7.2 12.   5.3 19.8 18.4 21.8\n",
      " 17.1 20.9 14.6 12.6 12.2  9.4 15.9  6.6 15.5  7.  16.6 15.2 19.7 10.6\n",
      "  6.6 11.9 24.7  9.7  1.6 17.7  5.7 19.6 10.8 11.6  9.5 20.8  9.6 20.7\n",
      " 10.9 19.2 20.1 10.4 12.3 10.3 18.2 25.4 10.9 10.1 16.1 11.6 16.6 16.\n",
      " 20.6  3.2 15.3 10.1  7.3 12.9 16.4 13.3 19.9 18.  11.9 16.9  8.  17.2\n",
      " 17.1 20.   8.4 17.5  7.6 16.7 16.5 27.  20.2 16.7 16.8 17.6 15.5 17.2\n",
      "  8.7 26.2 17.6 22.6 10.3 17.3 20.9  6.7 10.8 11.9  5.9 19.6 17.3  7.6\n",
      " 14.  14.8 25.5 18.4] <class 'numpy.ndarray'>\n",
      "[37.8 41.3 10.8  2.6 24.  32.9 47.7 39.6 27.7  5.1 16.9  3.5 29.3 16.7\n",
      " 27.1 28.3 20.   4.1 43.8 37.7 22.3 33.4 27.7  8.4 22.5 41.5 15.8  3.1\n",
      " 41.7 46.2 28.8 49.4 49.6 29.5 42.7 15.5 42.8 27.5 43.9 30.6 24.6  4.1\n",
      " 43.  18.4 40.6 47.8 33.5 36.5 31.6  3.5 21.  42.3 41.7  4.3 36.3 10.1\n",
      " 17.2 34.3 46.4 26.9  8.2 38.  15.4 20.6 36.9 26.8  2.4 34.6 32.3 49.\n",
      "  2.9 33.5 28.9 43.9 35.4 33.2  7.3 49.  13.9 23.3 39.7 21.1 43.5 18.1\n",
      " 18.1 36.8  3.4  5.2 23.6 10.6 20.9  7.1  3.4 48.9 30.2  7.8  2.3 10.\n",
      "  2.6  5.4 43.  21.3 45.1 28.7 13.9 42.  35.6 42.   8.6]\n",
      "Original arrays:\n",
      "Radio values: [37.8 39.3 45.9 41.3 10.8]...\n",
      "Sales values: [22.1 10.4 12.  16.5 17.9]...\n",
      "\n",
      "Filtering details:\n",
      "Number of total records: 200\n",
      "Number of records where sales >= 15: 109\n",
      "\n",
      "Statistics:\n",
      "Mean of all radio values: 23.3\n",
      "Mean of filtered radio values: 26.2\n",
      "Min filtered radio value: 2.3\n",
      "Max filtered radio value: 49.6\n"
     ]
    }
   ],
   "source": [
    "# Convert to numpy arrays for efficient filtering\n",
    "radios_arr = np.array(radios)\n",
    "print(radios_arr, type(radios_arr))\n",
    "sales_arr = np.array(sales)\n",
    "print(sales_arr, type(sales_arr))\n",
    "\n",
    "# Get radio values where sales >= 15\n",
    "filtered_radios = radios_arr[sales_arr >= 15]\n",
    "print(filtered_radios)\n",
    "\n",
    "print(\"Original arrays:\")\n",
    "print(f\"Radio values: {radios_arr[:5]}...\")\n",
    "print(f\"Sales values: {sales_arr[:5]}...\")\n",
    "\n",
    "print(\"\\nFiltering details:\")\n",
    "print(f\"Number of total records: {len(radios_arr)}\")\n",
    "print(f\"Number of records where sales >= 15: {len(filtered_radios)}\")\n",
    "\n",
    "print(\"\\nStatistics:\")\n",
    "print(f\"Mean of all radio values: {np.mean(radios_arr):.1f}\")\n",
    "print(f\"Mean of filtered radio values: {np.mean(filtered_radios):.1f}\")\n",
    "print(f\"Min filtered radio value: {np.min(filtered_radios):.1f}\")\n",
    "print(f\"Max filtered radio value: {np.max(filtered_radios):.1f}\")\n"
   ]
  },
  {
   "cell_type": "code",
   "execution_count": 40,
   "metadata": {},
   "outputs": [
    {
     "name": "stdout",
     "output_type": "stream",
     "text": [
      "[False  True  True False  True]\n"
     ]
    }
   ],
   "source": [
    "# ### Tại sao: radios_arr[sales_arr >= 15] trả về được các giá trị tương ứng với True của sales_arr >= 15. \n",
    "\n",
    "# Example\n",
    "sales_arr = np.array([10, 15, 20, 12, 16])\n",
    "mask = sales_arr >= 15\n",
    "print(mask)\n",
    "# mask becomes: [False, True, True, False, True]\n",
    "\n",
    "radios_arr = np.array([30, 40, 50, 60, 70])\n",
    "filtered = radios_arr[mask]\n",
    "# filtered becomes: [40, 50, 70]\n"
   ]
  },
  {
   "cell_type": "markdown",
   "metadata": {},
   "source": [
    "## 16. \n",
    "```\n",
    "Câu hỏi 16: Tính tổng các hàng của cột Sales với điều kiện giá trị Newspaper lớn hơn\n",
    "giá trị trung bình của cột Newspaper:\n",
    "a) 1403.1\n",
    "b) 1404.1\n",
    "c) 1405.1\n",
    "d) 1406.1\n",
    "```"
   ]
  },
  {
   "cell_type": "code",
   "execution_count": 49,
   "metadata": {},
   "outputs": [
    {
     "name": "stdout",
     "output_type": "stream",
     "text": [
      "[69.2, 45.1, 69.3, 58.5, 58.4, 75.0, 23.5, 11.6, 1.0, 21.2, 24.2, 4.0, 65.9, 7.2, 46.0, 52.9, 114.0, 55.8, 18.3, 19.1, 53.4, 23.5, 49.6, 26.2, 18.3, 19.5, 12.6, 22.9, 22.9, 40.8, 43.2, 38.6, 30.0, 0.3, 7.4, 8.5, 5.0, 45.7, 35.1, 32.0, 31.6, 38.7, 1.8, 26.4, 43.3, 31.5, 35.7, 18.5, 49.9, 36.8, 34.6, 3.6, 39.6, 58.7, 15.9, 60.0, 41.4, 16.6, 37.7, 9.3, 21.4, 54.7, 27.3, 8.4, 28.9, 0.9, 2.2, 10.2, 11.0, 27.2, 38.7, 31.7, 19.3, 31.3, 13.1, 89.4, 20.7, 14.2, 9.4, 23.1, 22.3, 36.9, 32.5, 35.6, 33.8, 65.7, 16.0, 63.2, 73.4, 51.4, 9.3, 33.0, 59.0, 72.3, 10.9, 52.9, 5.9, 22.0, 51.2, 45.9, 49.8, 100.9, 21.4, 17.9, 5.3, 59.0, 29.7, 23.2, 25.6, 5.5, 56.5, 23.2, 2.4, 10.7, 34.5, 52.7, 25.6, 14.8, 79.2, 22.3, 46.2, 50.4, 15.6, 12.4, 74.2, 25.9, 50.6, 9.2, 3.2, 43.1, 8.7, 43.0, 2.1, 45.1, 65.6, 8.5, 9.3, 59.7, 20.5, 1.7, 12.9, 75.6, 37.9, 34.4, 38.9, 9.0, 8.7, 44.3, 11.9, 20.6, 37.0, 48.7, 14.2, 37.7, 9.5, 5.7, 50.5, 24.3, 45.2, 34.6, 30.7, 49.3, 25.6, 7.4, 5.4, 84.8, 21.6, 19.4, 57.6, 6.4, 18.4, 47.4, 17.0, 12.8, 13.1, 41.8, 20.3, 35.2, 23.7, 17.6, 8.3, 27.4, 29.7, 71.8, 30.0, 19.6, 26.6, 18.2, 3.7, 23.4, 5.8, 6.0, 31.6, 3.6, 6.0, 13.8, 8.1, 6.4, 66.2, 8.7]\n",
      "[ 69.2  45.1  69.3  58.5  58.4  75.   23.5  11.6   1.   21.2  24.2   4.\n",
      "  65.9   7.2  46.   52.9 114.   55.8  18.3  19.1  53.4  23.5  49.6  26.2\n",
      "  18.3  19.5  12.6  22.9  22.9  40.8  43.2  38.6  30.    0.3   7.4   8.5\n",
      "   5.   45.7  35.1  32.   31.6  38.7   1.8  26.4  43.3  31.5  35.7  18.5\n",
      "  49.9  36.8  34.6   3.6  39.6  58.7  15.9  60.   41.4  16.6  37.7   9.3\n",
      "  21.4  54.7  27.3   8.4  28.9   0.9   2.2  10.2  11.   27.2  38.7  31.7\n",
      "  19.3  31.3  13.1  89.4  20.7  14.2   9.4  23.1  22.3  36.9  32.5  35.6\n",
      "  33.8  65.7  16.   63.2  73.4  51.4   9.3  33.   59.   72.3  10.9  52.9\n",
      "   5.9  22.   51.2  45.9  49.8 100.9  21.4  17.9   5.3  59.   29.7  23.2\n",
      "  25.6   5.5  56.5  23.2   2.4  10.7  34.5  52.7  25.6  14.8  79.2  22.3\n",
      "  46.2  50.4  15.6  12.4  74.2  25.9  50.6   9.2   3.2  43.1   8.7  43.\n",
      "   2.1  45.1  65.6   8.5   9.3  59.7  20.5   1.7  12.9  75.6  37.9  34.4\n",
      "  38.9   9.    8.7  44.3  11.9  20.6  37.   48.7  14.2  37.7   9.5   5.7\n",
      "  50.5  24.3  45.2  34.6  30.7  49.3  25.6   7.4   5.4  84.8  21.6  19.4\n",
      "  57.6   6.4  18.4  47.4  17.   12.8  13.1  41.8  20.3  35.2  23.7  17.6\n",
      "   8.3  27.4  29.7  71.8  30.   19.6  26.6  18.2   3.7  23.4   5.8   6.\n",
      "  31.6   3.6   6.   13.8   8.1   6.4  66.2   8.7]\n",
      "30.553999999999995\n",
      "[22.1 10.4 12.  16.5 17.9  7.2  9.2 19.  22.4 12.5 24.4 18.   5.6 10.5\n",
      " 21.4 11.9 14.7 10.1 21.5 16.6 17.1  8.5 16.1 10.6 19.8  9.7 16.4 22.6\n",
      " 21.2 23.7  5.5 23.8 24.2 18.3 12.4 11.   8.7 17.3 11.3 13.6 21.7 20.2\n",
      " 16.  12.9 16.7  7.3 19.4 22.2 16.9 25.4 17.2 16.7 23.8 15.  18.4 14.6\n",
      " 12.6 15.9 15.5  7.  19.7  6.6  9.7 17.7 19.6 10.8 20.8 19.2 20.1 10.4\n",
      " 12.3 25.4 16.1 11.6 16.  15.3  7.3 12.9 16.4 13.3 16.9 17.1 17.5 27.\n",
      " 16.7 26.2  5.9 25.5]\n",
      "1405.1\n"
     ]
    }
   ],
   "source": [
    "print(newspapers)\n",
    "newspapers_arr = np.array(newspapers)\n",
    "print(newspapers_arr)\n",
    "print(np.mean(newspapers_arr))\n",
    "mask = newspapers_arr >= np.mean(newspapers_arr)\n",
    "# print(mask)\n",
    "# print(len(mask))\n",
    "\n",
    "sales_arr = np.array(sales)\n",
    "filtered_sales = sales_arr[mask]\n",
    "print(filtered_sales)\n",
    "print(np.sum(filtered_sales))\n"
   ]
  },
  {
   "cell_type": "code",
   "execution_count": 50,
   "metadata": {},
   "outputs": [
    {
     "name": "stdout",
     "output_type": "stream",
     "text": [
      "Newspaper mean: 30.55\n",
      "Number of filtered records: 88\n",
      "Sum of filtered sales: 1405.1\n"
     ]
    }
   ],
   "source": [
    "## AI Chữa \n",
    "\n",
    "# Convert to numpy arrays\n",
    "newspapers_arr = np.array(newspapers)\n",
    "sales_arr = np.array(sales)\n",
    "\n",
    "# Calculate newspaper mean\n",
    "newspaper_mean = np.mean(newspapers_arr)\n",
    "\n",
    "# Filter sales where newspaper > mean\n",
    "filtered_sales = sales_arr[newspapers_arr > newspaper_mean]\n",
    "\n",
    "# Calculate sum\n",
    "sales_sum = np.sum(filtered_sales)\n",
    "\n",
    "print(f\"Newspaper mean: {newspaper_mean:.2f}\")\n",
    "print(f\"Number of filtered records: {len(filtered_sales)}\")\n",
    "print(f\"Sum of filtered sales: {sales_sum:.1f}\")\n"
   ]
  },
  {
   "cell_type": "markdown",
   "metadata": {},
   "source": [
    "## 17. \n",
    "```\n",
    "Câu hỏi 17: Gọi giá trị trung bình của cột Sales là A. Tạo ra mảng mới scores chứa các\n",
    "giá trị Good, Average và Bad sao cho: nếu giá trị hiện tại > A => giá trị trong mảng mới\n",
    "là Good, < A thì sẽ là Bad và = A sẽ là Average. Sau đó in ra kết quả scores[7:10]\n",
    "a ) [ ’ Bad ’ , ’ Good ’ , ’ Good ’]\n",
    "b ) [ ’ Good ’ , ’Bad ’ , ’ Good ’]\n",
    "c ) [ ’ Bad ’ , ’Bad ’ , ’ Good ’]\n",
    "d ) [ ’ Bad ’ , ’Bad ’ , ’Bad ’]\n",
    "```"
   ]
  },
  {
   "cell_type": "code",
   "execution_count": 56,
   "metadata": {},
   "outputs": [
    {
     "name": "stdout",
     "output_type": "stream",
     "text": [
      "15.130500000000001\n",
      "['Bad' 'Bad' 'Good']\n"
     ]
    }
   ],
   "source": [
    "sales_arr = np.array(sales)\n",
    "mean_sales = np.mean(sales_arr)\n",
    "print(mean_sales)\n",
    "\n",
    "sales_scores_arr = np.array(['Good' if sale > mean_sales else 'Bad' if sale < mean_sales else 'Average' for sale in sales_arr])\n",
    "print(sales_scores_arr[7:10])\n"
   ]
  },
  {
   "cell_type": "markdown",
   "metadata": {},
   "source": [
    "## 18. \n",
    "```\n",
    "Câu hỏi 18: Gọi giá trị trên cột Sales gần nhất với giá trị trung bình cũng chính cột\n",
    "Sales là A. Tạo ra mảng mới scores chứa các giá trị Good, Average và Bad sao cho: nếu\n",
    "giá trị hiện tại > A => giá trị trong mảng mới là Good, < A thì sẽ là Bad và = A sẽ là\n",
    "Average. Sau đó in ra kết quả scores[7:10]\n",
    "a ) [ ’ Bad ’ , ’ Good ’ , ’ Good ’]\n",
    "b ) [ ’ Good ’ , ’Bad ’ , ’ Good ’]\n",
    "c ) [ ’ Bad ’ , ’Bad ’ , ’ Good ’]\n",
    "d ) [ ’ Bad ’ , ’Bad ’ , ’Bad ’]\n",
    "```"
   ]
  },
  {
   "cell_type": "markdown",
   "metadata": {},
   "source": [
    "Question 17 uses the exact mean as threshold\n",
    "\n",
    "Question 18 uses the value in the dataset that's closest to the mean"
   ]
  },
  {
   "cell_type": "code",
   "execution_count": 58,
   "metadata": {},
   "outputs": [
    {
     "name": "stdout",
     "output_type": "stream",
     "text": [
      "Question 17 (using mean):\n",
      "Mean value: 15.130500000000001\n",
      "scores[7:10]: ['Bad' 'Bad' 'Good']\n"
     ]
    }
   ],
   "source": [
    "# Using mean as threshold\n",
    "mean_sales = np.mean(sales_arr)\n",
    "scores_mean = np.array(['Good' if sale > mean_sales else 'Bad' if sale < mean_sales else 'Average' for sale in sales_arr])\n",
    "print(\"Question 17 (using mean):\")\n",
    "print(f\"Mean value: {mean_sales}\")\n",
    "print(f\"scores[7:10]: {scores_mean[7:10]}\")\n"
   ]
  },
  {
   "cell_type": "code",
   "execution_count": 57,
   "metadata": {},
   "outputs": [
    {
     "name": "stdout",
     "output_type": "stream",
     "text": [
      "\n",
      "Question 18 (using closest to mean):\n",
      "Closest to mean value: 15.2\n",
      "scores[7:10]: ['Bad' 'Bad' 'Good']\n"
     ]
    }
   ],
   "source": [
    "# Find value closest to mean\n",
    "closest_to_mean = sales_arr[np.abs(sales_arr - mean_sales).argmin()]\n",
    "scores_closest = np.array(['Good' if sale > closest_to_mean else 'Bad' if sale < closest_to_mean else 'Average' for sale in sales_arr])\n",
    "print(\"\\nQuestion 18 (using closest to mean):\")\n",
    "print(f\"Closest to mean value: {closest_to_mean}\")\n",
    "print(f\"scores[7:10]: {scores_closest[7:10]}\")\n"
   ]
  },
  {
   "cell_type": "code",
   "execution_count": 59,
   "metadata": {},
   "outputs": [
    {
     "name": "stdout",
     "output_type": "stream",
     "text": [
      "Mean value used as threshold: 15.13\n",
      "Closest value used as threshold: 15.20\n",
      "\n",
      "First 10 elements comparison:\n",
      "Index  |  Mean-based  |  Closest-based\n",
      "----------------------------------------\n",
      "    0  |  Good        |  Good      \n",
      "    1  |  Bad         |  Bad       \n",
      "    2  |  Bad         |  Bad       \n",
      "    3  |  Good        |  Good      \n",
      "    4  |  Good        |  Good      \n",
      "    5  |  Bad         |  Bad       \n",
      "    6  |  Bad         |  Bad       \n",
      "    7  |  Bad         |  Bad       \n",
      "    8  |  Bad         |  Bad       \n",
      "    9  |  Good        |  Good      \n",
      "\n",
      "Total number of different classifications: 1\n"
     ]
    }
   ],
   "source": [
    "# Calculate both arrays\n",
    "mean_sales = np.mean(sales_arr)\n",
    "closest_to_mean = sales_arr[np.abs(sales_arr - mean_sales).argmin()]\n",
    "\n",
    "scores_mean = np.array(['Good' if sale > mean_sales else 'Bad' if sale < mean_sales else 'Average' for sale in sales_arr])\n",
    "scores_closest = np.array(['Good' if sale > closest_to_mean else 'Bad' if sale < closest_to_mean else 'Average' for sale in sales_arr])\n",
    "\n",
    "# Print comparison details\n",
    "print(f\"Mean value used as threshold: {mean_sales:.2f}\")\n",
    "print(f\"Closest value used as threshold: {closest_to_mean:.2f}\")\n",
    "print(\"\\nFirst 10 elements comparison:\")\n",
    "print(\"Index  |  Mean-based  |  Closest-based\")\n",
    "print(\"-\" * 40)\n",
    "for i in range(10):\n",
    "    print(f\"{i:5d}  |  {scores_mean[i]:10s}  |  {scores_closest[i]:10s}\")\n",
    "\n",
    "# Count differences\n",
    "differences = np.sum(scores_mean != scores_closest)\n",
    "print(f\"\\nTotal number of different classifications: {differences}\")\n"
   ]
  },
  {
   "attachments": {
    "image.png": {
     "image/png": "[encoded data removed]"
    }
   },
   "cell_type": "markdown",
   "metadata": {},
   "source": [
    "![image.png](attachment:image.png)"
   ]
  },
  {
   "cell_type": "markdown",
   "metadata": {},
   "source": [
    "```\n",
    "[GÓC THEO DÕI BÀI TẬP VỀ NHÀ]\n",
    "Em chào ad và cả nhà mình ạ. Em xin phép ad và cả nhà mình đăng 1 bài báo điểm bài về nhà được 18/18 ạ \n",
    "---\n",
    "Mời cả nhà cùng share thành tích học tập ở Post này cùng nhau ạ\n",
    " Thank u so much!!! \n",
    "#bvn #cung_nhau_hoc_tap #hoc_tap_tuan_tu_va_lien_tuc\n",
    "```"
   ]
  },
  {
   "cell_type": "markdown",
   "metadata": {},
   "source": [
    "Ứng dụng nhiều nguyên lý: 1. KHÔNG ĐO LƯỜNG KO CẢI TIẾN ĐƯỢC + 2. MÔI TRƯỜNG HỌC TẬP + 3. CHIA SẺ LẠI + 4. GẮN KẾT VỚI MENTOR + DỰ ÁN THẬT + TÍCH LUỸ ĐỀU ĐẶN + ĐỘNG LỰC CHINH PHỤC, NETWORKING, ... "
   ]
  },
  {
   "cell_type": "markdown",
   "metadata": {},
   "source": [
    "[Hoàn thiện BVN TUẦN 7 WARM UP: 1. KO ĐO LƯỜNG ĐƯỢC KO CÓ CẢI TIẾN ĐƯỢC + 2. NETWORKING MENTOR + 3. CHIA SẺ LẠI, ĐƯỢC COACHING THEO DÕI KO LÀM LÀ BỊ NHẮC NGAY + 4. TÍCH LUỸ, CHINH PHỤC]"
   ]
  },
  {
   "cell_type": "code",
   "execution_count": null,
   "metadata": {},
   "outputs": [],
   "source": []
  }
 ],
 "metadata": {
  "kernelspec": {
   "display_name": "Python 3",
   "language": "python",
   "name": "python3"
  },
  "language_info": {
   "codemirror_mode": {
    "name": "ipython",
    "version": 3
   },
   "file_extension": ".py",
   "mimetype": "text/x-python",
   "name": "python",
   "nbconvert_exporter": "python",
   "pygments_lexer": "ipython3",
   "version": "3.12.8"
  }
 },
 "nbformat": 4,
 "nbformat_minor": 2
}
