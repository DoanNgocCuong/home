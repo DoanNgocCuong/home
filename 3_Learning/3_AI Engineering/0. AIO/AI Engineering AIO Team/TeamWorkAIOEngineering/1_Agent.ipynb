{
 "cells": [
  {
   "cell_type": "markdown",
   "metadata": {},
   "source": [
    "Ae có lên bài chia sẻ hông ehehe"
   ]
  },
  {
   "cell_type": "code",
   "execution_count": null,
   "metadata": {},
   "outputs": [],
   "source": []
  }
 ],
 "metadata": {
  "language_info": {
   "name": "python"
  }
 },
 "nbformat": 4,
 "nbformat_minor": 2
}
