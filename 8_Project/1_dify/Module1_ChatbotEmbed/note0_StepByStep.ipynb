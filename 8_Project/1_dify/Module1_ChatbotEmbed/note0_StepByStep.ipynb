{
 "cells": [
  {
   "cell_type": "markdown",
   "metadata": {},
   "source": [
    "Ý tưởng ban đầu: Nhúng chatbot dify lên Mindpal để chat kèm theo các thứ. "
   ]
  },
  {
   "cell_type": "markdown",
   "metadata": {},
   "source": [
    "- Ngày 1: set up (Build 2 image bên trong trước)\n",
    "- Ngày 2: Bug liên quan đến log in => Dựng chatbot và cơ chế ghi nhớ lịch sử của nó"
   ]
  },
  {
   "cell_type": "markdown",
   "metadata": {},
   "source": [
    "# 1. Define version: \n",
    "- Ver 1: Nhúng chatbot cần 2 trường: Context và Question (user_input).\n",
    "- Ver 2: Có thêm Recommend câu hỏi cho User bằng 1 con Agent. \n",
    "    - Agent: Dựa vào Context => Recommend câu hỏi cho user nên hỏi. \n",
    "        - Input: Context(Langchain)\n",
    "        - Output: Câu hỏi mà user nên hỏi. \n",
    "- Ver 3: Context(Langchain) + Questions của (Context + Agent) được truyền vào Chatbot. "
   ]
  },
  {
   "cell_type": "markdown",
   "metadata": {},
   "source": [
    "- Database thao tác với langchain.  => Cần tương tác nó với database của Dify như nào? \n",
    "- Database thao tác với Milvus"
   ]
  },
  {
   "cell_type": "markdown",
   "metadata": {},
   "source": [
    "- langchain đang hỗ trợ những gì, có cái template code sẵn của langchain không. Chatbot - langchain framework (frame work được phát triển từ langchain) "
   ]
  },
  {
   "cell_type": "markdown",
   "metadata": {},
   "source": [
    "# 2. Khi bắt tay vào build Chatbot bằng API DIFY.  => Vấn đề là cần có lịch sử chat của con bot. MÃI SAU NHỚ RA LÀ NÓ CÓ `conversation_id` truyền vào => MỞ RA CÁC VERSION VÀ CÁCH LÀM HOÀN TOÀN MỚI "
   ]
  },
  {
   "cell_type": "markdown",
   "metadata": {},
   "source": [
    "- Deploy1.1 - 1 bản chatbot: port backend 25039, frontend 25040. \n",
    "và cho phép embed. \n",
    "1. Tại sao ko chỉnh sửa hàng loạt chatbot embed trên hệ thống luôn, xong mang vào embed cho cái Mindpal. \n",
    "=> 1. là do qua bug ko log in vào được, ko test embed được => Đành phải build riêng \n",
    "\n",
    "\n",
    "Next step:\n",
    "1. Lấy embed của bot nhúng trực tiếp vào Mindpal, về sau chỉnh sửa UI chung của con embed đó. \n",
    "<Em đang làm ạ. Delay 1 xíu do qua bug bên DIFY không login được>\n",
    "(qua em vọc API lấy Context và xem cách họ embed chatbot). \n",
    "-----------estimate: Hôm nay xong (chưa có UI - ưu tiên thông luồng)\n",
    "\n",
    "2. API lấy Context hội thoại của Mindpal (qua `conversation_id`) hoặc tạo biến lưu trữ Context để dùng cho 2 việc: \n",
    "- Context cung cấp cho \"Agent tạo 3 câu hỏi\". \n",
    "- Context cung cấp cho \"Chatbot hỗ trợ bên cạnh\"\n",
    "\n",
    "Về phần lấy Context (dựa vào `conversation_id`) đang có 2 hướng:\n",
    "H1: Fix 2 API (em có gửi bên Slack) => lấy được Context mới nhất của luồng Mindpal hiện tại. \n",
    "H2: Lấy context dựa vào HTML đang hiển thị trên web. \n",
    "\n",
    "------------ estimate: (API nhanh thì trong ngày mai có API này, chậm thì cuối tuần).\n",
    "\n",
    "3. Agent với 3 câu hỏi có `button follow-up questions` và gọi sang AI Assistant?  <sử dụng API bên trên truyền Context vào cho 2 con này>\n",
    "- Truyền `Context` (`conversation_id`) vào cả 2 trên \n",
    "- Cơ chế câu hỏi từ bên Agent truyền qua chatbot dự kiến là bằng API:\n",
    "(Khi nút click sẽ gửi thông tin: Luồng Mindpal hiện tại (conversation_id) + Câu hỏi => tới Agent AI Assistant sẽ nhận conversation_id + Question). \n",
    "\n",
    "--------------estimate:(có API ở bước trên mới truyền Context vào cho Agent để gen câu hỏi được) --- estimate: nhanh thì thứ 2, chậm sẽ là sang hết ngày thứ 3. \n",
    "\n",
    "4. UI ( bên Dify đang xài .tsx , để nhanh a @Hoang Duc Minh  có thể chỉnh UI bằng html xong Convert sang). \n",
    "\n",
    "=============\n",
    "Em gửi step dự kiến và Estimate ạ. \n",
    "\n",
    "[Cũng đang hơi chậm so với Estimate ban đầu ạ.]\n",
    "\n"
   ]
  },
  {
   "cell_type": "markdown",
   "metadata": {},
   "source": []
  },
  {
   "cell_type": "code",
   "execution_count": null,
   "metadata": {},
   "outputs": [],
   "source": []
  }
 ],
 "metadata": {
  "language_info": {
   "name": "python"
  }
 },
 "nbformat": 4,
 "nbformat_minor": 2
}
