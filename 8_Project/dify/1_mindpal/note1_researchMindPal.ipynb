{
 "cells": [
  {
   "cell_type": "markdown",
   "metadata": {},
   "source": [
    "@mindpal \n",
    "Muốn chạy local cái này> \n",
    "\n",
    "tôi đã tách riêng nó ra - nó là 1 phần nhỏ của repo gốc. \n",
    "\n",
    "- dify.thecoach.edu/web/app/component/mindpal.\n",
    "\n",
    "\n",
    "Chỉ sửa UI, ko động đến cấu trúc đường link các file cũ. "
   ]
  },
  {
   "cell_type": "markdown",
   "metadata": {},
   "source": [
    "Bạn xem hộ tôi đi @mindpal \n",
    "\n",
    "VÌ TÔI COPY MỖI CÁI NÀY TỪ REPO GỐC RA nên ko có các file package.json"
   ]
  },
  {
   "cell_type": "markdown",
   "metadata": {},
   "source": [
    "cái này là code UI thui hay là có cả backend rùi, \n",
    "\n",
    "Muốn tách riêng cái này ra để sửa UI "
   ]
  },
  {
   "cell_type": "markdown",
   "metadata": {},
   "source": [
    "Trong mã nguồn của bạn, có một số đoạn code đang gọi đến API. Dưới đây là các điểm mà bạn có thể thấy các cuộc gọi API:\n",
    "\n",
    "1. **Lấy thông tin ứng dụng**:\n",
    "   - `fetchAppDetail` được gọi trong `useEffect` của `MindpalProvider` để lấy thông tin chi tiết về ứng dụng.\n",
    "   ```typescript\n",
    "   const [appDetail, workflowPublished, conversations, tools] = await Promise.all([\n",
    "       fetchAppDetail({ url: '/apps', id: appId }),\n",
    "       ...\n",
    "   ]);\n",
    "   ```\n",
    "\n",
    "2. **Lấy workflow đã xuất bản**:\n",
    "   - `fetchPublishedWorkflow` cũng được gọi trong cùng một `useEffect` để lấy workflow đã xuất bản.\n",
    "   ```typescript\n",
    "   fetchPublishedWorkflow(`/apps/${appId}/workflows/publish`),\n",
    "   ```\n",
    "\n",
    "3. **Lấy danh sách cuộc hội thoại**:\n",
    "   - `mindpalFetchConversations` được gọi để lấy danh sách các cuộc hội thoại.\n",
    "   ```typescript\n",
    "   mindpalFetchConversations(appId, undefined, false, 100),\n",
    "   ```\n",
    "\n",
    "4. **Lấy công cụ workflow**:\n",
    "   - `fetchAllWorkflowTools` được gọi để lấy tất cả các công cụ workflow.\n",
    "   ```typescript\n",
    "   fetchAllWorkflowTools(),\n",
    "   ```\n",
    "\n",
    "5. **Lấy chi tiết thực thi nút của cuộc hội thoại**:\n",
    "   - `mindpalFetchNodeExecutionDetailsOfConversation` được gọi trong `useEffect` thứ hai để lấy chi tiết thực thi của các nút trong cuộc hội thoại.\n",
    "   ```typescript\n",
    "   const ne = await mindpalFetchNodeExecutionDetailsOfConversation(appId, conversationId, nodeId);\n",
    "   ```\n",
    "\n",
    "6. **Tạo cuộc hội thoại mới**:\n",
    "   - `mindpalCreateConversation` được gọi trong `handleCreateConversation` để tạo một cuộc hội thoại mới.\n",
    "   ```typescript\n",
    "   const conversation = await mindpalCreateConversation(appId);\n",
    "   ```\n",
    "\n",
    "7. **Xóa cuộc hội thoại**:\n",
    "   - `mindpalDeleteConversation` được gọi trong `deleteConversation` để xóa một cuộc hội thoại.\n",
    "   ```typescript\n",
    "   await mindpalDeleteConversation(appId, conversationId);\n",
    "   ```\n",
    "\n",
    "8. **Đổi tên cuộc hội thoại**:\n",
    "   - `mindpalRenameConversation` được gọi trong `renameConversation` để đổi tên cuộc hội thoại.\n",
    "   ```typescript\n",
    "   await mindpalRenameConversation(appId, conversationId as string, name);\n",
    "   ```\n",
    "\n",
    "Tóm lại, mã nguồn của bạn không chỉ là một ứng dụng web đơn giản mà còn thực hiện nhiều cuộc gọi API để tương tác với backend và lấy dữ liệu cần thiết."
   ]
  }
 ],
 "metadata": {
  "language_info": {
   "name": "python"
  }
 },
 "nbformat": 4,
 "nbformat_minor": 2
}
