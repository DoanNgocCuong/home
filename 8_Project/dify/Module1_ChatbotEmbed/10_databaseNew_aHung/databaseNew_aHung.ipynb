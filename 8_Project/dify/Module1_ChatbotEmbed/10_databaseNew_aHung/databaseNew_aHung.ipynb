{
 "cells": [
  {
   "cell_type": "markdown",
   "metadata": {},
   "source": [
    "Nếu mà DB chưa có workflow_node_execution_mindpal thực hiện như sau:\n",
    "```\n",
    "docker exec -it docker-db-1 /bin/bash\n",
    "psgl -U <username>\n",
    "\\c dify\n",
    "thực hiện câu lệnh tạo DB\n",
    "DROP TABLE IF EXISTS \"workflow_node_execution_mindpal\";\n",
    "CREATE TABLE \"public\".\"workflow_node_execution_mindpal\" (\n",
    "    \"id\" uuid DEFAULT uuid_generate_v4() NOT NULL,\n",
    "    \"tenant_id\" uuid NOT NULL,\n",
    "    \"app_id\" uuid NOT NULL,\n",
    "    \"workflow_id\" uuid NOT NULL,\n",
    "    \"triggered_from\" character varying(255) NOT NULL,\n",
    "    \"workflow_run_id\" uuid,\n",
    "    \"workflow_node_execution_id\" uuid,\n",
    "    \"index\" integer NOT NULL,\n",
    "    \"predecessor_node_id\" character varying(255),\n",
    "    \"node_id\" character varying(255) NOT NULL,\n",
    "    \"node_type\" character varying(255) NOT NULL,\n",
    "    \"title\" character varying(255) NOT NULL,\n",
    "    \"inputs\" text,\n",
    "    \"process_data\" text,\n",
    "    \"outputs\" text,\n",
    "    \"status\" character varying(255) NOT NULL,\n",
    "    \"error\" text,\n",
    "    \"elapsed_time\" double precision DEFAULT '0' NOT NULL,\n",
    "    \"execution_metadata\" text,\n",
    "    \"created_at\" timestamp DEFAULT CURRENT_TIMESTAMP(0) NOT NULL,\n",
    "    \"created_by_role\" character varying(255) NOT NULL,\n",
    "    \"created_by\" uuid NOT NULL,\n",
    "    \"finished_at\" timestamp,\n",
    "    \"node_execution_id\" character varying(255),\n",
    "    CONSTRAINT \"workflow_node_execution_mindpal_pkey\" PRIMARY KEY (\"id\")\n",
    ") WITH (oids = false);\n",
    "CREATE INDEX \"workflow_node_execution_mindpal_id_idx\" ON \"public\".\"workflow_node_execution_mindpal\" USING btree (\"tenant_id\", \"app_id\", \"workflow_id\", \"triggered_from\", \"node_execution_id\", \"workflow_node_execution_id\");\n",
    "CREATE INDEX \"workflow_node_execution_mindpal_node_run_idx\" ON \"public\".\"workflow_node_execution_mindpal\" USING btree (\"tenant_id\", \"app_id\", \"workflow_id\", \"triggered_from\", \"node_id\", \"workflow_node_execution_id\");\n",
    "CREATE INDEX \"workflow_node_execution_mindpal_workflow_run_idx\" ON \"public\".\"workflow_node_execution_mindpal\" USING btree (\"tenant_id\", \"app_id\", \"workflow_id\", \"triggered_from\", \"workflow_run_id\", \"workflow_node_execution_id\");\n",
    "```"
   ]
  },
  {
   "cell_type": "markdown",
   "metadata": {},
   "source": [
    "```bash\n",
    "PS D:\\OneDrive - Hanoi University of Science and Technology\\GIT\\dify.thecoach.edu.vn> docker exec -it docker-db-1 /bin/bash\n",
    "f86aaea5fa60:/# psql -U postgres\n",
    "psql (15.10)\n",
    "Type \"help\" for help.\n",
    "\n",
    "postgres=# \\c dify\n",
    "You are now connected to database \"dify\" as user \"postgres\".\n",
    "dify=#\n",
    "````"
   ]
  },
  {
   "cell_type": "markdown",
   "metadata": {},
   "source": []
  }
 ],
 "metadata": {
  "language_info": {
   "name": "python"
  }
 },
 "nbformat": 4,
 "nbformat_minor": 2
}
