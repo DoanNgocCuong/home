{
 "cells": [
  {
   "cell_type": "markdown",
   "metadata": {},
   "source": [
    "# 1. Server API\n",
    "\n",
    "Trong `api/.env`\n",
    "\n",
    "- Generate a random secret key and replace the value of SECRET_KEY in the .env file:\n",
    "```\n",
    "# openssl rand -base64 42\n",
    "SECRET_KEY=yLhUmfznWpz9tC3F39vwgwsucL8tv3POOB7s30nbOdn2C8LgJLp1au+A\n",
    "```\n",
    "\n",
    "- \n",
    "\n",
    "```venv\n",
    "pip install poetry  \n",
    "poetry install\n",
    "poetry shell\n",
    "```\n",
    "(chứ đừng: poetry env use 3.11)\n",
    "\n",
    "```"
   ]
  },
  {
   "cell_type": "markdown",
   "metadata": {},
   "source": [
    "```\n",
    "pip install gevent flask-cors flask-migrate pydantic_settings\n",
    "```"
   ]
  },
  {
   "cell_type": "markdown",
   "metadata": {},
   "source": [
    "`flask db upgrade` là một lệnh trong Flask-Migrate để thực hiện cập nhật (migrate) cơ sở dữ liệu. Cụ thể:\n",
    "\n",
    "1. **Mục đích**:\n",
    "- Áp dụng tất cả các migration scripts chưa được chạy vào database\n",
    "- Cập nhật schema của database theo các thay đổi đã định nghĩa trong migration files\n",
    "- Đồng bộ cấu trúc database với mô hình dữ liệu trong code\n",
    "\n",
    "2. **Quy trình làm việc thông thường**:\n",
    "```bash\n",
    "# 1. Khởi tạo migrations\n",
    "flask db init\n",
    "\n",
    "# 2. Tạo migration script khi có thay đổi models\n",
    "flask db migrate -m \"mô tả thay đổi\"\n",
    "\n",
    "# 3. Áp dụng các thay đổi vào database\n",
    "flask db upgrade\n",
    "```\n",
    "\n",
    "3. **Khi nào cần chạy**:\n",
    "- Lần đầu setup project\n",
    "- Sau khi pull code mới có chứa migration files\n",
    "- Sau khi có thay đổi về cấu trúc database\n",
    "\n",
    "Trong trường hợp của bạn, đây là một bước trong quá trình setup ban đầu để tạo và cập nhật cấu trúc database theo thiết kế của ứng dụng.\n"
   ]
  },
  {
   "cell_type": "code",
   "execution_count": null,
   "metadata": {},
   "outputs": [],
   "source": []
  },
  {
   "cell_type": "markdown",
   "metadata": {},
   "source": [
    "ls"
   ]
  },
  {
   "cell_type": "markdown",
   "metadata": {},
   "source": [
    "\n",
    "(.venv) PS D:\\OneDrive - Hanoi University of Science and Technology\\GIT\\dify.thecoach.edu.vn\\.devcontainer> ls\n",
    "\n",
    "\n",
    "    Directory: D:\\OneDrive - Hanoi University of Science and\n",
    "    Technology\\GIT\\dify.thecoach.edu.vn\\.devcontainer\n",
    "\n",
    "\n",
    "Mode                 LastWriteTime         Length Name\n",
    "----                 -------------         ------ ----\n",
    "-a----         12/4/2024   5:44 PM           1543 devcontainer.json\n",
    "-a----         12/4/2024   5:44 PM            267 Dockerfile\n",
    "-a----         12/4/2024   5:44 PM            201 noop.txt\n",
    "-a----         12/4/2024   5:44 PM            628 post_create_command.sh\n",
    "-a----         12/4/2024   5:44 PM             37 post_start_command.sh\n",
    "-a----         12/4/2024   5:44 PM           2535 README.md\n",
    "-a----         12/4/2024   5:44 PM          13963 troubleshooting.png\n",
    "\n",
    "\n",
    "(.venv) PS D:\\OneDrive - Hanoi University of Science and Technology\\GIT\\dify.thecoach.edu.vn\\.devcontainer>"
   ]
  },
  {
   "cell_type": "markdown",
   "metadata": {},
   "source": [
    "\n",
    "\n",
    "Để chạy Dockerfile trong Dev Container, bạn cần:\n",
    "\n",
    "1. **Trong VS Code**:\n",
    "```\n",
    "1. Nhấn F1 hoặc Ctrl+Shift+P\n",
    "2. Gõ \"Dev Containers: Rebuild and Reopen in Container\"\n",
    "3. Chọn option này để VS Code tự động:\n",
    "   - Build Docker image từ Dockerfile\n",
    "   - Tạo và chạy container\n",
    "   - Kết nối VS Code vào container\n",
    "```\n",
    "\n",
    "2. **Hoặc qua Docker CLI** (nếu muốn chạy thủ công):\n",
    "```bash\n",
    "# Build image\n",
    "docker build -t devcontainer-python .\n",
    "\n",
    "# Chạy container\n",
    "docker run -it --name python-dev devcontainer-python\n",
    "```\n",
    "\n",
    "Dockerfile này:\n",
    "- Sử dụng image base Python 3.12 từ Microsoft\n",
    "- Được thiết kế để chạy trong môi trường Dev Container\n",
    "- Có thể thêm các packages OS bổ sung bằng cách bỏ comment phần RUN apt-get\n",
    "\n",
    "Tuy nhiên, tôi khuyên bạn nên dùng cách 1 (thông qua VS Code) vì:\n",
    "- Tự động setup môi trường dev\n",
    "- Tích hợp với VS Code extensions\n",
    "- Chạy các post-create và post-start scripts tự động\n"
   ]
  },
  {
   "cell_type": "markdown",
   "metadata": {},
   "source": [
    "# .DEV\n"
   ]
  },
  {
   "cell_type": "markdown",
   "metadata": {},
   "source": [
    "```\n",
    "poetry shell\n",
    "flask db upgrade\n",
    "```\n",
    "\n",
    "- \n",
    "```\n",
    "   sudo apt update\n",
    "   sudo apt install postgresql postgresql-contrib\n",
    "```\n",
    "\n",
    "- \n",
    "```\n",
    "sudo service postgresql start\n",
    "sudo service postgresql status\n",
    "```\n",
    "- \n",
    "```\n",
    "flask db upgrade\n",
    "```"
   ]
  },
  {
   "cell_type": "markdown",
   "metadata": {},
   "source": []
  },
  {
   "cell_type": "markdown",
   "metadata": {},
   "source": [
    "- set .env\n",
    "- set .env.middleware"
   ]
  },
  {
   "cell_type": "markdown",
   "metadata": {},
   "source": [
    "```\n",
    "sudo apt-get install unzip\n",
    "curl -fsSL https://bun.sh/install | bash\n",
    "```\n",
    "\n",
    "```bash\n",
    "source ~/.bashrc\n",
    "```"
   ]
  },
  {
   "cell_type": "markdown",
   "metadata": {},
   "source": [
    "Mấy cách chạy đều bug sau đó lên wsl CHẠY \n",
    "\n",
    "```\n",
    "docker run mấy cái port kia trước\n",
    "copy các file .env \n",
    "triển scretce cho cái kia \n",
    "\n",
    "\n",
    "flask db upgrade\n",
    " flask run --host 0.0.0.0 --port=5001 --debug\n",
    "```\n",
    "\n",
    "CHẠY thì được (trước đó window thì lỗi hoài cứ .venv cài được đủ xong run flask db upgrade thì lỗi thư viện)"
   ]
  },
  {
   "cell_type": "markdown",
   "metadata": {},
   "source": [
    "```\n",
    "celery -A app.celery worker -P solo --without-gossip --without-mingle -Q dataset,generation,mail,ops_trace --loglevel INFO\n",
    "```\n",
    "start worker "
   ]
  },
  {
   "cell_type": "markdown",
   "metadata": {},
   "source": []
  }
 ],
 "metadata": {
  "language_info": {
   "name": "python"
  }
 },
 "nbformat": 4,
 "nbformat_minor": 2
}
