{
 "cells": [
  {
   "cell_type": "markdown",
   "metadata": {},
   "source": [
    "```\n",
    "Uncaught runtime errors:\n",
    "×\n",
    "ERROR\n",
    "Request failed with status code 500\n",
    "AxiosError: Request failed with status code 500\n",
    "    at settle (http://localhost:25038/static/js/bundle.js:44272:12)\n",
    "    at XMLHttpRequest.onloadend (http://localhost:25038/static/js/bundle.js:42923:66)\n",
    "    at Axios.request (http://localhost:25038/static/js/bundle.js:43422:41)\n",
    "    at async runScript (http://localhost:25038/static/js/bundle.js:219:24)\n",
    "```"
   ]
  },
  {
   "cell_type": "markdown",
   "metadata": {},
   "source": [
    "Check API Key thì thấy bug \n",
    "\n",
    "```\n",
    "---------------------------------------------------------------------------\n",
    "RateLimitError                            Traceback (most recent call last)\n",
    "<ipython-input-2-98d7d2d00cdb> in <cell line: 6>()\n",
    "      4 client = OpenAI(api_key=\"\")\n",
    "      5 \n",
    "----> 6 response = client.chat.completions.create(\n",
    "      7     model=\"gpt-4o-mini\",\n",
    "      8     messages=[\n",
    "\n",
    "8 frames\n",
    "/usr/local/lib/python3.10/dist-packages/openai/_base_client.py in _request(self, cast_to, options, retries_taken, stream, stream_cls)\n",
    "   1057 \n",
    "   1058             log.debug(\"Re-raising status error\")\n",
    "-> 1059             raise self._make_status_error_from_response(err.response) from None\n",
    "   1060 \n",
    "   1061         return self._process_response(\n",
    "\n",
    "RateLimitError: Error code: 429 - {'error': {'message': 'You exceeded your current quota, please check your plan and billing details. For more information on this error, read the docs: https://platform.openai.com/docs/guides/error-codes/api-errors.', 'type': 'insufficient_quota', 'param': None, 'code': 'insufficient_quota'}}\n",
    "```"
   ]
  },
  {
   "cell_type": "code",
   "execution_count": null,
   "metadata": {},
   "outputs": [],
   "source": []
  }
 ],
 "metadata": {
  "language_info": {
   "name": "python"
  }
 },
 "nbformat": 4,
 "nbformat_minor": 2
}
