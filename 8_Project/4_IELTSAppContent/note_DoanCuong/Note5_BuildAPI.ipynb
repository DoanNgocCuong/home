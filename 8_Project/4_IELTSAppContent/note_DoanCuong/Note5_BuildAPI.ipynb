{
 "cells": [
  {
   "cell_type": "markdown",
   "metadata": {},
   "source": [
    "Các file trong mục `@scripts` có thể chạy riêng được. Mỗi file đều có chức năng riêng và có thể gọi API hoặc thực hiện các tác vụ khác nhau. \n",
    "\n",
    "Ví dụ:\n",
    "\n",
    "- `gen_answer_pic.py` tạo hình ảnh dựa trên prompt và lưu chúng.\n",
    "- `ipa_generate.py` tạo âm thanh IPA từ văn bản và lưu vào thư mục.\n",
    "- `generate_meaning_exercise.py` tạo bài tập nghĩa từ từ vựng và lưu kết quả.\n",
    "- `generate_story.py` xử lý dữ liệu để tạo câu chuyện.\n",
    "- `generate_audio_conversation.py` tạo âm thanh cho các cuộc hội thoại.\n",
    "- `generate_thumb.py` sử dụng API WebSocket để tải hình ảnh.\n",
    "\n",
    "Mỗi file có thể được chạy độc lập, miễn là các thư viện cần thiết đã được cài đặt và các biến môi trường đã được thiết lập đúng cách."
   ]
  },
  {
   "cell_type": "markdown",
   "metadata": {},
   "source": [
    "Bug fix 1 hồi ko thấy data được ghi vào file \n",
    "1. Có thể lỗi utf8\n",
    "2. Fix bug trên hơn 1h. Sau đó mới nghĩ đến việc test API Key, rồi test file input. Sau đó vấn đề lại nằm ở data.xlsx\n"
   ]
  }
 ],
 "metadata": {
  "language_info": {
   "name": "python"
  }
 },
 "nbformat": 4,
 "nbformat_minor": 2
}
